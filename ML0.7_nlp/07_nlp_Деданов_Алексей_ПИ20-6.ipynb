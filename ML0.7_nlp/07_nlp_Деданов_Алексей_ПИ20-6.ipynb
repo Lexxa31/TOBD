{
 "cells": [
  {
   "cell_type": "markdown",
   "metadata": {},
   "source": [
    "# Введение в обработку текста на естественном языке"
   ]
  },
  {
   "cell_type": "markdown",
   "metadata": {},
   "source": [
    "__Автор задач: Блохин Н.В. (NVBlokhin@fa.ru)__\n",
    "\n",
    "Материалы:\n",
    "* Макрушин С.В. Лекция \"Введение в обработку текста на естественном языке\"\n",
    "* https://www.nltk.org/api/nltk.metrics.distance.html\n",
    "* https://pymorphy2.readthedocs.io/en/stable/user/guide.html\n",
    "* https://realpython.com/nltk-nlp-python/\n",
    "* https://scikit-learn.org/stable/modules/feature_extraction.html"
   ]
  },
  {
   "cell_type": "markdown",
   "metadata": {},
   "source": [
    "## Задачи для совместного разбора"
   ]
  },
  {
   "cell_type": "code",
   "execution_count": 1,
   "metadata": {},
   "outputs": [],
   "source": [
    "import nltk\n",
    "from nltk.stem import SnowballStemmer\n",
    "from nltk import word_tokenize\n",
    "from nltk import edit_distance\n",
    "from nltk import sent_tokenize\n",
    "from nltk.corpus import stopwords\n",
    "from nltk.stem.wordnet import WordNetLemmatizer\n",
    "from nltk.probability import FreqDist\n",
    "\n",
    "from scipy.spatial.distance import cosine\n",
    "\n",
    "import pymorphy2\n",
    "\n",
    "from sklearn.feature_extraction.text import CountVectorizer\n",
    "from sklearn.feature_extraction.text import TfidfVectorizer\n",
    "\n",
    "import numpy as np\n",
    "import pandas as pd\n",
    "import time\n",
    "import re"
   ]
  },
  {
   "cell_type": "code",
   "execution_count": 3,
   "metadata": {},
   "outputs": [
    {
     "name": "stdout",
     "output_type": "stream",
     "text": [
      "Requirement already satisfied: sklearn in c:\\python\\envs\\python_new\\lib\\site-packages (0.0)\n",
      "Requirement already satisfied: scikit-learn in c:\\python\\envs\\python_new\\lib\\site-packages (from sklearn) (1.1.2)\n",
      "Requirement already satisfied: joblib>=1.0.0 in c:\\python\\envs\\python_new\\lib\\site-packages (from scikit-learn->sklearn) (1.2.0)\n",
      "Requirement already satisfied: scipy>=1.3.2 in c:\\python\\envs\\python_new\\lib\\site-packages (from scikit-learn->sklearn) (1.9.3)\n",
      "Requirement already satisfied: threadpoolctl>=2.0.0 in c:\\python\\envs\\python_new\\lib\\site-packages (from scikit-learn->sklearn) (3.1.0)\n",
      "Requirement already satisfied: numpy>=1.17.3 in c:\\python\\envs\\python_new\\lib\\site-packages (from scikit-learn->sklearn) (1.23.3)\n",
      "Note: you may need to restart the kernel to use updated packages.\n"
     ]
    }
   ],
   "source": [
    "pip install sklearn"
   ]
  },
  {
   "cell_type": "code",
   "execution_count": 3,
   "metadata": {},
   "outputs": [
    {
     "name": "stdout",
     "output_type": "stream",
     "text": [
      "Collecting pymorphy2\n",
      "  Downloading pymorphy2-0.9.1-py3-none-any.whl (55 kB)\n",
      "Collecting docopt>=0.6\n",
      "  Downloading docopt-0.6.2.tar.gz (25 kB)\n",
      "Collecting pymorphy2-dicts-ru<3.0,>=2.4\n",
      "  Downloading pymorphy2_dicts_ru-2.4.417127.4579844-py2.py3-none-any.whl (8.2 MB)\n",
      "Collecting dawg-python>=0.7.1\n",
      "  Downloading DAWG_Python-0.7.2-py2.py3-none-any.whl (11 kB)\n",
      "Building wheels for collected packages: docopt\n",
      "  Building wheel for docopt (setup.py): started\n",
      "  Building wheel for docopt (setup.py): finished with status 'done'\n",
      "  Created wheel for docopt: filename=docopt-0.6.2-py2.py3-none-any.whl size=13709 sha256=6b7bfed716e30b355748ebe07de348ae9fae77f481709eaf55060e63667bd17b\n",
      "  Stored in directory: c:\\users\\297\\appdata\\local\\pip\\cache\\wheels\\56\\ea\\58\\ead137b087d9e326852a851351d1debf4ada529b6ac0ec4e8c\n",
      "Successfully built docopt\n",
      "Installing collected packages: docopt, pymorphy2-dicts-ru, dawg-python, pymorphy2\n",
      "Successfully installed dawg-python-0.7.2 docopt-0.6.2 pymorphy2-0.9.1 pymorphy2-dicts-ru-2.4.417127.4579844\n"
     ]
    }
   ],
   "source": [
    "!pip install pymorphy2"
   ]
  },
  {
   "cell_type": "code",
   "execution_count": 16,
   "metadata": {},
   "outputs": [
    {
     "name": "stderr",
     "output_type": "stream",
     "text": [
      "[nltk_data] Downloading package punkt to\n",
      "[nltk_data]     C:\\Users\\297\\AppData\\Roaming\\nltk_data...\n",
      "[nltk_data]   Package punkt is already up-to-date!\n",
      "[nltk_data] Downloading package wordnet to\n",
      "[nltk_data]     C:\\Users\\297\\AppData\\Roaming\\nltk_data...\n",
      "[nltk_data]   Package wordnet is already up-to-date!\n",
      "[nltk_data] Downloading package omw-1.4 to\n",
      "[nltk_data]     C:\\Users\\297\\AppData\\Roaming\\nltk_data...\n",
      "[nltk_data] Downloading package stopwords to\n",
      "[nltk_data]     C:\\Users\\297\\AppData\\Roaming\\nltk_data...\n",
      "[nltk_data]   Unzipping corpora\\stopwords.zip.\n"
     ]
    },
    {
     "data": {
      "text/plain": [
       "True"
      ]
     },
     "execution_count": 16,
     "metadata": {},
     "output_type": "execute_result"
    }
   ],
   "source": [
    "nltk.download('punkt')\n",
    "nltk.download('wordnet')\n",
    "nltk.download('omw-1.4')\n",
    "nltk.download('stopwords')"
   ]
  },
  {
   "cell_type": "markdown",
   "metadata": {},
   "source": [
    "1. Считайте слова из файла `litw-win.txt` и запишите их в список `words`. При помощи расстояния Левенштейна иправьте опечатку в слове \"велечайшим\"."
   ]
  },
  {
   "cell_type": "code",
   "execution_count": 6,
   "metadata": {},
   "outputs": [
    {
     "name": "stdout",
     "output_type": "stream",
     "text": [
      "['в', 'с', 'к', 'о', 'п', 'б', 'д', 'ч', 'г', 'р', 'л', 'ш', 'ц', 'й', 'ы', 'ь', 'на', 'то', 'же', 'по']\n"
     ]
    }
   ],
   "source": [
    "with open('litw-win.txt', 'r') as read_file:\n",
    "    words = []\n",
    "    for row in read_file:\n",
    "        words.append(read_file.readline().split()[-1])\n",
    "print(words[:20])"
   ]
  },
  {
   "cell_type": "code",
   "execution_count": 7,
   "metadata": {},
   "outputs": [
    {
     "name": "stdout",
     "output_type": "stream",
     "text": [
      "1 величайшим\n"
     ]
    }
   ],
   "source": [
    "closest = ''\n",
    "dist = 11\n",
    "for cur in words:\n",
    "    if edit_distance('велечайшим', cur) < dist:\n",
    "        closest = cur\n",
    "        dist = edit_distance('велечайшим', cur)\n",
    "        \n",
    "print(dist, closest)"
   ]
  },
  {
   "cell_type": "markdown",
   "metadata": {},
   "source": [
    "2. Разбейте текст из формулировки второго задания на слова. Проведите стемминг и лемматизацию слов."
   ]
  },
  {
   "cell_type": "code",
   "execution_count": 8,
   "metadata": {},
   "outputs": [
    {
     "data": {
      "text/plain": [
       "['Разбейте',\n",
       " 'текст',\n",
       " 'из',\n",
       " 'формулировки',\n",
       " 'второго',\n",
       " 'задания',\n",
       " 'на',\n",
       " 'слова',\n",
       " 'Проведите',\n",
       " 'стемминг',\n",
       " 'и',\n",
       " 'лемматизацию',\n",
       " 'слов']"
      ]
     },
     "execution_count": 8,
     "metadata": {},
     "output_type": "execute_result"
    }
   ],
   "source": [
    "text = '''Разбейте текст из формулировки второго задания на слова. Проведите стемминг и лемматизацию слов.'''\n",
    "\n",
    "patt = nltk.tokenize.RegexpTokenizer(r\"[а-яА-Я]+\")\n",
    "res = patt.tokenize(text)\n",
    "\n",
    "res"
   ]
  },
  {
   "cell_type": "code",
   "execution_count": 9,
   "metadata": {},
   "outputs": [
    {
     "data": {
      "text/plain": [
       "['разб',\n",
       " 'текст',\n",
       " 'из',\n",
       " 'формулировк',\n",
       " 'втор',\n",
       " 'задан',\n",
       " 'на',\n",
       " 'слов',\n",
       " 'провед',\n",
       " 'стемминг',\n",
       " 'и',\n",
       " 'лемматизац',\n",
       " 'слов']"
      ]
     },
     "execution_count": 9,
     "metadata": {},
     "output_type": "execute_result"
    }
   ],
   "source": [
    "stemer = SnowballStemmer('russian')\n",
    "stem_res = [stemer.stem(word) for word in res]\n",
    "\n",
    "stem_res"
   ]
  },
  {
   "cell_type": "code",
   "execution_count": 10,
   "metadata": {},
   "outputs": [
    {
     "name": "stdout",
     "output_type": "stream",
     "text": [
      "разбить\n",
      "текст\n",
      "из\n",
      "формулировка\n",
      "второй\n",
      "задание\n",
      "на\n",
      "слово\n",
      "провести\n",
      "стемминг\n",
      "и\n",
      "лемматизация\n",
      "слово\n"
     ]
    }
   ],
   "source": [
    "morph = pymorphy2.MorphAnalyzer()\n",
    "\n",
    "for word in res:\n",
    "    p = morph.parse(word)[0]\n",
    "    print(p.normal_form)"
   ]
  },
  {
   "cell_type": "markdown",
   "metadata": {},
   "source": [
    "3. Преобразуйте предложения из формулировки задания 2 в векторы при помощи `CountVectorizer`. Выведите на экран словарь обученного токенизатора."
   ]
  },
  {
   "cell_type": "code",
   "execution_count": 11,
   "metadata": {},
   "outputs": [
    {
     "data": {
      "text/plain": [
       "array(['второго', 'задания', 'из', 'лемматизацию', 'на', 'проведите',\n",
       "       'разбейте', 'слов', 'слова', 'стемминг', 'текст', 'формулировки'],\n",
       "      dtype=object)"
      ]
     },
     "execution_count": 11,
     "metadata": {},
     "output_type": "execute_result"
    }
   ],
   "source": [
    "text = '''Разбейте текст из формулировки второго задания на слова. Проведите стемминг и лемматизацию слов.'''\n",
    "#text_1 = nltk.set_transform(text)\n",
    "\n",
    "vectorizer = CountVectorizer()\n",
    "X = vectorizer.fit_transform(res)\n",
    "\n",
    "vectorizer.get_feature_names_out()\n",
    "\n"
   ]
  },
  {
   "cell_type": "code",
   "execution_count": 12,
   "metadata": {},
   "outputs": [
    {
     "name": "stdout",
     "output_type": "stream",
     "text": [
      "[[0 0 0 0 0 0 1 0 0 0 0 0]\n",
      " [0 0 0 0 0 0 0 0 0 0 1 0]\n",
      " [0 0 1 0 0 0 0 0 0 0 0 0]\n",
      " [0 0 0 0 0 0 0 0 0 0 0 1]\n",
      " [1 0 0 0 0 0 0 0 0 0 0 0]\n",
      " [0 1 0 0 0 0 0 0 0 0 0 0]\n",
      " [0 0 0 0 1 0 0 0 0 0 0 0]\n",
      " [0 0 0 0 0 0 0 0 1 0 0 0]\n",
      " [0 0 0 0 0 1 0 0 0 0 0 0]\n",
      " [0 0 0 0 0 0 0 0 0 1 0 0]\n",
      " [0 0 0 0 0 0 0 0 0 0 0 0]\n",
      " [0 0 0 1 0 0 0 0 0 0 0 0]\n",
      " [0 0 0 0 0 0 0 1 0 0 0 0]]\n"
     ]
    }
   ],
   "source": [
    "print(X.toarray())"
   ]
  },
  {
   "cell_type": "markdown",
   "metadata": {},
   "source": [
    "## Лабораторная работа 7"
   ]
  },
  {
   "cell_type": "markdown",
   "metadata": {},
   "source": [
    "1\\. Загрузите данные из файла `ru_recipes_sample.csv` в виде `pd.DataFrame` `recipes` Используя регулярные выражения, удалите из описаний (столбец `description`) все символы, кроме русских букв, цифр и пробелов. Приведите все слова в описании к нижнему регистру. Сохраните полученный результат в столбец `description`."
   ]
  },
  {
   "cell_type": "code",
   "execution_count": 2,
   "metadata": {},
   "outputs": [
    {
     "data": {
      "text/html": [
       "<div>\n",
       "<style scoped>\n",
       "    .dataframe tbody tr th:only-of-type {\n",
       "        vertical-align: middle;\n",
       "    }\n",
       "\n",
       "    .dataframe tbody tr th {\n",
       "        vertical-align: top;\n",
       "    }\n",
       "\n",
       "    .dataframe thead th {\n",
       "        text-align: right;\n",
       "    }\n",
       "</style>\n",
       "<table border=\"1\" class=\"dataframe\">\n",
       "  <thead>\n",
       "    <tr style=\"text-align: right;\">\n",
       "      <th></th>\n",
       "      <th>url</th>\n",
       "      <th>name</th>\n",
       "      <th>ingredients</th>\n",
       "      <th>description</th>\n",
       "    </tr>\n",
       "  </thead>\n",
       "  <tbody>\n",
       "    <tr>\n",
       "      <th>0</th>\n",
       "      <td>https://www.povarenok.ru/recipes/show/164365/</td>\n",
       "      <td>Густой молочно-клубничный коктейль</td>\n",
       "      <td>{'Молоко': '250 мл', 'Клубника': '200 г', 'Сах...</td>\n",
       "      <td>Этот коктейль готовлю из замороженной клубники...</td>\n",
       "    </tr>\n",
       "    <tr>\n",
       "      <th>1</th>\n",
       "      <td>https://www.povarenok.ru/recipes/show/1306/</td>\n",
       "      <td>Рулетики</td>\n",
       "      <td>{'Сыр твердый': None, 'Чеснок': None, 'Яйцо ку...</td>\n",
       "      <td>Быстро и вкусно.</td>\n",
       "    </tr>\n",
       "    <tr>\n",
       "      <th>2</th>\n",
       "      <td>https://www.povarenok.ru/recipes/show/10625/</td>\n",
       "      <td>Салат \"Баклажанчик\"</td>\n",
       "      <td>{'Баклажан': '3 шт', 'Лук репчатый': '2 шт', '...</td>\n",
       "      <td>Сытный, овощной салатик, пальчики оближете.</td>\n",
       "    </tr>\n",
       "    <tr>\n",
       "      <th>3</th>\n",
       "      <td>https://www.povarenok.ru/recipes/show/167337/</td>\n",
       "      <td>Куриные котлеты с картофельным пюре в духовке</td>\n",
       "      <td>{'Фарш куриный': '800 г', 'Пюре картофельное':...</td>\n",
       "      <td>Картофельное пюре и куриные котлеты - вкусная ...</td>\n",
       "    </tr>\n",
       "    <tr>\n",
       "      <th>4</th>\n",
       "      <td>https://www.povarenok.ru/recipes/show/91919/</td>\n",
       "      <td>Рецепт вишневой наливки</td>\n",
       "      <td>{'Вишня': '1 кг', 'Водка': '1 л', 'Сахар': '30...</td>\n",
       "      <td>Вишневая наливка имеет яркий вишневый вкус, ко...</td>\n",
       "    </tr>\n",
       "  </tbody>\n",
       "</table>\n",
       "</div>"
      ],
      "text/plain": [
       "                                             url  \\\n",
       "0  https://www.povarenok.ru/recipes/show/164365/   \n",
       "1    https://www.povarenok.ru/recipes/show/1306/   \n",
       "2   https://www.povarenok.ru/recipes/show/10625/   \n",
       "3  https://www.povarenok.ru/recipes/show/167337/   \n",
       "4   https://www.povarenok.ru/recipes/show/91919/   \n",
       "\n",
       "                                            name  \\\n",
       "0             Густой молочно-клубничный коктейль   \n",
       "1                                       Рулетики   \n",
       "2                            Салат \"Баклажанчик\"   \n",
       "3  Куриные котлеты с картофельным пюре в духовке   \n",
       "4                        Рецепт вишневой наливки   \n",
       "\n",
       "                                         ingredients  \\\n",
       "0  {'Молоко': '250 мл', 'Клубника': '200 г', 'Сах...   \n",
       "1  {'Сыр твердый': None, 'Чеснок': None, 'Яйцо ку...   \n",
       "2  {'Баклажан': '3 шт', 'Лук репчатый': '2 шт', '...   \n",
       "3  {'Фарш куриный': '800 г', 'Пюре картофельное':...   \n",
       "4  {'Вишня': '1 кг', 'Водка': '1 л', 'Сахар': '30...   \n",
       "\n",
       "                                         description  \n",
       "0  Этот коктейль готовлю из замороженной клубники...  \n",
       "1                                   Быстро и вкусно.  \n",
       "2        Сытный, овощной салатик, пальчики оближете.  \n",
       "3  Картофельное пюре и куриные котлеты - вкусная ...  \n",
       "4  Вишневая наливка имеет яркий вишневый вкус, ко...  "
      ]
     },
     "execution_count": 2,
     "metadata": {},
     "output_type": "execute_result"
    }
   ],
   "source": [
    "recipes = pd.read_csv('ru_recipes_sample.csv')\n",
    "recipes.head()"
   ]
  },
  {
   "cell_type": "code",
   "execution_count": 3,
   "metadata": {},
   "outputs": [
    {
     "data": {
      "text/html": [
       "<div>\n",
       "<style scoped>\n",
       "    .dataframe tbody tr th:only-of-type {\n",
       "        vertical-align: middle;\n",
       "    }\n",
       "\n",
       "    .dataframe tbody tr th {\n",
       "        vertical-align: top;\n",
       "    }\n",
       "\n",
       "    .dataframe thead th {\n",
       "        text-align: right;\n",
       "    }\n",
       "</style>\n",
       "<table border=\"1\" class=\"dataframe\">\n",
       "  <thead>\n",
       "    <tr style=\"text-align: right;\">\n",
       "      <th></th>\n",
       "      <th>url</th>\n",
       "      <th>name</th>\n",
       "    </tr>\n",
       "  </thead>\n",
       "  <tbody>\n",
       "    <tr>\n",
       "      <th>0</th>\n",
       "      <td>https://www.povarenok.ru/recipes/show/164365/</td>\n",
       "      <td>Густой молочно-клубничный коктейль</td>\n",
       "    </tr>\n",
       "    <tr>\n",
       "      <th>1</th>\n",
       "      <td>https://www.povarenok.ru/recipes/show/1306/</td>\n",
       "      <td>Рулетики</td>\n",
       "    </tr>\n",
       "    <tr>\n",
       "      <th>2</th>\n",
       "      <td>https://www.povarenok.ru/recipes/show/10625/</td>\n",
       "      <td>Салат \"Баклажанчик\"</td>\n",
       "    </tr>\n",
       "    <tr>\n",
       "      <th>3</th>\n",
       "      <td>https://www.povarenok.ru/recipes/show/167337/</td>\n",
       "      <td>Куриные котлеты с картофельным пюре в духовке</td>\n",
       "    </tr>\n",
       "    <tr>\n",
       "      <th>4</th>\n",
       "      <td>https://www.povarenok.ru/recipes/show/91919/</td>\n",
       "      <td>Рецепт вишневой наливки</td>\n",
       "    </tr>\n",
       "  </tbody>\n",
       "</table>\n",
       "</div>"
      ],
      "text/plain": [
       "                                             url  \\\n",
       "0  https://www.povarenok.ru/recipes/show/164365/   \n",
       "1    https://www.povarenok.ru/recipes/show/1306/   \n",
       "2   https://www.povarenok.ru/recipes/show/10625/   \n",
       "3  https://www.povarenok.ru/recipes/show/167337/   \n",
       "4   https://www.povarenok.ru/recipes/show/91919/   \n",
       "\n",
       "                                            name  \n",
       "0             Густой молочно-клубничный коктейль  \n",
       "1                                       Рулетики  \n",
       "2                            Салат \"Баклажанчик\"  \n",
       "3  Куриные котлеты с картофельным пюре в духовке  \n",
       "4                        Рецепт вишневой наливки  "
      ]
     },
     "execution_count": 3,
     "metadata": {},
     "output_type": "execute_result"
    }
   ],
   "source": [
    "recipes[['url', 'name']].head()"
   ]
  },
  {
   "cell_type": "code",
   "execution_count": 4,
   "metadata": {},
   "outputs": [
    {
     "data": {
      "text/html": [
       "<div>\n",
       "<style scoped>\n",
       "    .dataframe tbody tr th:only-of-type {\n",
       "        vertical-align: middle;\n",
       "    }\n",
       "\n",
       "    .dataframe tbody tr th {\n",
       "        vertical-align: top;\n",
       "    }\n",
       "\n",
       "    .dataframe thead th {\n",
       "        text-align: right;\n",
       "    }\n",
       "</style>\n",
       "<table border=\"1\" class=\"dataframe\">\n",
       "  <thead>\n",
       "    <tr style=\"text-align: right;\">\n",
       "      <th></th>\n",
       "      <th>url</th>\n",
       "      <th>name</th>\n",
       "      <th>ingredients</th>\n",
       "      <th>description</th>\n",
       "    </tr>\n",
       "  </thead>\n",
       "  <tbody>\n",
       "    <tr>\n",
       "      <th>0</th>\n",
       "      <td>https://www.povarenok.ru/recipes/show/164365/</td>\n",
       "      <td>Густой молочно-клубничный коктейль</td>\n",
       "      <td>{'Молоко': '250 мл', 'Клубника': '200 г', 'Сах...</td>\n",
       "      <td>этот коктейль готовлю из замороженной клубники...</td>\n",
       "    </tr>\n",
       "    <tr>\n",
       "      <th>1</th>\n",
       "      <td>https://www.povarenok.ru/recipes/show/1306/</td>\n",
       "      <td>Рулетики</td>\n",
       "      <td>{'Сыр твердый': None, 'Чеснок': None, 'Яйцо ку...</td>\n",
       "      <td>быстро и вкусно</td>\n",
       "    </tr>\n",
       "    <tr>\n",
       "      <th>2</th>\n",
       "      <td>https://www.povarenok.ru/recipes/show/10625/</td>\n",
       "      <td>Салат \"Баклажанчик\"</td>\n",
       "      <td>{'Баклажан': '3 шт', 'Лук репчатый': '2 шт', '...</td>\n",
       "      <td>сытный овощной салатик пальчики оближете</td>\n",
       "    </tr>\n",
       "    <tr>\n",
       "      <th>3</th>\n",
       "      <td>https://www.povarenok.ru/recipes/show/167337/</td>\n",
       "      <td>Куриные котлеты с картофельным пюре в духовке</td>\n",
       "      <td>{'Фарш куриный': '800 г', 'Пюре картофельное':...</td>\n",
       "      <td>картофельное пюре и куриные котлеты  вкусная к...</td>\n",
       "    </tr>\n",
       "    <tr>\n",
       "      <th>4</th>\n",
       "      <td>https://www.povarenok.ru/recipes/show/91919/</td>\n",
       "      <td>Рецепт вишневой наливки</td>\n",
       "      <td>{'Вишня': '1 кг', 'Водка': '1 л', 'Сахар': '30...</td>\n",
       "      <td>вишневая наливка имеет яркий вишневый вкус кот...</td>\n",
       "    </tr>\n",
       "  </tbody>\n",
       "</table>\n",
       "</div>"
      ],
      "text/plain": [
       "                                             url  \\\n",
       "0  https://www.povarenok.ru/recipes/show/164365/   \n",
       "1    https://www.povarenok.ru/recipes/show/1306/   \n",
       "2   https://www.povarenok.ru/recipes/show/10625/   \n",
       "3  https://www.povarenok.ru/recipes/show/167337/   \n",
       "4   https://www.povarenok.ru/recipes/show/91919/   \n",
       "\n",
       "                                            name  \\\n",
       "0             Густой молочно-клубничный коктейль   \n",
       "1                                       Рулетики   \n",
       "2                            Салат \"Баклажанчик\"   \n",
       "3  Куриные котлеты с картофельным пюре в духовке   \n",
       "4                        Рецепт вишневой наливки   \n",
       "\n",
       "                                         ingredients  \\\n",
       "0  {'Молоко': '250 мл', 'Клубника': '200 г', 'Сах...   \n",
       "1  {'Сыр твердый': None, 'Чеснок': None, 'Яйцо ку...   \n",
       "2  {'Баклажан': '3 шт', 'Лук репчатый': '2 шт', '...   \n",
       "3  {'Фарш куриный': '800 г', 'Пюре картофельное':...   \n",
       "4  {'Вишня': '1 кг', 'Водка': '1 л', 'Сахар': '30...   \n",
       "\n",
       "                                         description  \n",
       "0  этот коктейль готовлю из замороженной клубники...  \n",
       "1                                    быстро и вкусно  \n",
       "2           сытный овощной салатик пальчики оближете  \n",
       "3  картофельное пюре и куриные котлеты  вкусная к...  \n",
       "4  вишневая наливка имеет яркий вишневый вкус кот...  "
      ]
     },
     "execution_count": 4,
     "metadata": {},
     "output_type": "execute_result"
    }
   ],
   "source": [
    "recipes['description'] = recipes['description'].apply(lambda x : re.sub('[^а-яА-ЯёЁ0-9\\s]+', '', x)).str.lower()\n",
    "\n",
    "recipes.head()"
   ]
  },
  {
   "cell_type": "markdown",
   "metadata": {},
   "source": [
    "### Расстояние редактирования"
   ]
  },
  {
   "cell_type": "markdown",
   "metadata": {},
   "source": [
    "2\\. Получите набор уникальных слов `words`, содержащихся в текстах описаний рецептов (воспользуйтесь `word_tokenize` из `nltk`). Сгенерируйте 5 пар случайно выбранных слов и посчитайте между ними расстояние Левенштейна. Выведите на экран результат в следующем виде:\n",
    "\n",
    "```\n",
    "d(word1, word2) = x\n",
    "```"
   ]
  },
  {
   "cell_type": "code",
   "execution_count": 7,
   "metadata": {},
   "outputs": [
    {
     "data": {
      "text/plain": [
       "0       [этот, коктейль, готовлю, из, замороженной, кл...\n",
       "1                                     [быстро, и, вкусно]\n",
       "2          [сытный, овощной, салатик, пальчики, оближете]\n",
       "3       [картофельное, пюре, и, куриные, котлеты, вкус...\n",
       "4       [вишневая, наливка, имеет, яркий, вишневый, вк...\n",
       "                              ...                        \n",
       "3462    [для, тех, кто, любит, чечевицу, вам, сюда, оч...\n",
       "3463    [баклажановые, фантазии, продолжаются, предлаг...\n",
       "3464    [мое, любимое, блюдо, лазанья, но, кушать, тол...\n",
       "3465    [прошлым, летом, варила, варенье, из, одуванчи...\n",
       "3466    [и, три, корочки, хлеба, сделал, заказ, бурати...\n",
       "Name: description, Length: 3467, dtype: object"
      ]
     },
     "execution_count": 7,
     "metadata": {},
     "output_type": "execute_result"
    }
   ],
   "source": [
    "words_ser = recipes.description.apply(word_tokenize)\n",
    "words_ser"
   ]
  },
  {
   "cell_type": "code",
   "execution_count": 9,
   "metadata": {},
   "outputs": [
    {
     "data": {
      "text/plain": [
       "(['интерпретацию', 'скалка', 'скорость', 'примут', 'потому'], 16451)"
      ]
     },
     "execution_count": 9,
     "metadata": {},
     "output_type": "execute_result"
    }
   ],
   "source": [
    "words = words_ser.explode().values\n",
    "\n",
    "amount_of_words = len(words)\n",
    "all_words = words\n",
    "\n",
    "words = list(set(words))\n",
    "words[:5], len(words)"
   ]
  },
  {
   "cell_type": "code",
   "execution_count": 10,
   "metadata": {},
   "outputs": [
    {
     "data": {
      "text/plain": [
       "array([['бублик', 'добавкой'],\n",
       "       ['постепенно', 'заказ'],\n",
       "       ['голова', 'сыром'],\n",
       "       ['кутабы', 'кориандра'],\n",
       "       ['бросать', 'толи']], dtype='<U27')"
      ]
     },
     "execution_count": 10,
     "metadata": {},
     "output_type": "execute_result"
    }
   ],
   "source": [
    "words_samples = np.random.choice(words, 10).reshape(5, 2)\n",
    "words_samples"
   ]
  },
  {
   "cell_type": "code",
   "execution_count": 11,
   "metadata": {},
   "outputs": [
    {
     "name": "stdout",
     "output_type": "stream",
     "text": [
      "d(бублик, добавкой) = 6\n",
      "d(постепенно, заказ) = 10\n",
      "d(голова, сыром) = 5\n",
      "d(кутабы, кориандра) = 7\n",
      "d(бросать, толи) = 6\n"
     ]
    }
   ],
   "source": [
    "def Levenstein_print(cur):\n",
    "    dist = edit_distance(cur[0], cur[1])\n",
    "    print(f'd({cur[0]}, {cur[1]}) = {dist}')\n",
    "    \n",
    "\n",
    "for cur_pair in words_samples:\n",
    "    Levenstein_print(cur_pair)"
   ]
  },
  {
   "cell_type": "markdown",
   "metadata": {},
   "source": [
    "3\\. Напишите функцию, которая принимает на вход 2 текстовые строки `s1` и `s2` и при помощи расстояния Левенштейна определяет, является ли строка `s2` плагиатом `s1`. Функция должна реализовывать следующую логику: для каждого слова `w1` из `s1` проверяет, есть в `s2` хотя бы одно слово `w2`, такое, что расстояние Левенштейна между `w1` и `w2` меньше 2, и считает количество таких слов в `s1` $P$. \n",
    "\n",
    "$$ P = \\#\\{w_1 \\in s_1\\ | \\exists w_2 \\in s_2 : d(w_1, w_2) < tol\\}$$\n",
    "\n",
    "$$ L = max(|s1|, |s2|) $$\n",
    "\n",
    "Здесь $|\\cdot|$ - количество слов в строке, $\\#A$ - число элементов в множестве $A$, $w \\in s$ означает, что слово $w$ содержится в тексте $s$.\n",
    "\n",
    "Если отношение $P / L$ больше 0.8, то функция должна вернуть True; иначе False.\n",
    "\n",
    "Продемонстрируйте работу вашей функции на примере описаний двух рецептов с ID 135488 и 851934 (ID рецепта - это число, стоящее в конце url рецепта). Выведите на экран описания этих рецептов и результат работы функции."
   ]
  },
  {
   "cell_type": "code",
   "execution_count": 13,
   "metadata": {},
   "outputs": [
    {
     "name": "stdout",
     "output_type": "stream",
     "text": [
      "Описание (135488): прекрасной закуской к крепким напиткам на фуршетном столе станет паштет из сала и авокадо с чесноком который мы спрячем в орешках из бородинского хлеба положив в середину маслину закуска получается необычной оригинальной и ценится особенно мужчинами \n",
      "\n",
      " Описание (851934):замечательной закуской к напиткам на фуршетном столе станет паштет из сала и авокадо с чесноком куда мы добавим орешков из бородинского хлеба положив в середину маслины закуска получается крайне необычной оригинальной и ценится особенно мужчинами \n",
      "\n",
      " Результат работы функции: True\n"
     ]
    }
   ],
   "source": [
    "def is_plagiarism(s1: str, s2: str) -> bool:\n",
    "    s1_words = word_tokenize(s1)\n",
    "    s2_words = word_tokenize(s2)\n",
    "    \n",
    "    p_counter = 0\n",
    "    for cur_word in s1_words:\n",
    "        for cur_comp in s2_words:\n",
    "            dist = edit_distance(cur_word, cur_comp)\n",
    "            if dist < 2:\n",
    "                p_counter += 1\n",
    "                break\n",
    "                \n",
    "    l = max(len(s1_words), len(s2_words))\n",
    "    if p_counter / l > 0.8:\n",
    "        return True\n",
    "    else:\n",
    "        return False\n",
    "    \n",
    "link = 'https://www.povarenok.ru/recipes/show/'\n",
    "rec1 = recipes[recipes['url'] == link + str(135488) + '/']['description'].values[0]\n",
    "rec2 = recipes[recipes['url'] == link + str(851934) + '/']['description'].values[0]\n",
    "\n",
    "print(f'Описание (135488): {rec1} \\n\\n Описание (851934):{rec2} \\n\\n Результат работы функции: {is_plagiarism(s1 = rec1, s2 = rec2)}')"
   ]
  },
  {
   "cell_type": "markdown",
   "metadata": {},
   "source": [
    "### Стемминг, лемматизация"
   ]
  },
  {
   "cell_type": "markdown",
   "metadata": {},
   "source": [
    "4\\. На основе набора слов из задания 2 создайте `pd.DataFrame` со столбцами `word`, `stemmed_word` и `normalized_word`. В столбец `stemmed_word` поместите версию слова после проведения процедуры стемминга; в столбец `normalized_word` поместите версию слова после проведения процедуры лемматизации. Столбец `word` укажите в качестве индекса. \n",
    "\n",
    "Для стемминга можно воспользоваться `SnowballStemmer` из `nltk`, для лемматизации слов - пакетом `pymorphy2`. Сравните результаты стемминга и лемматизации. Поясните на примере одной из строк получившегося фрейма (в виде текстового комментария), в чем разница между двумя этими подходами. "
   ]
  },
  {
   "cell_type": "code",
   "execution_count": 14,
   "metadata": {},
   "outputs": [
    {
     "data": {
      "text/html": [
       "<div>\n",
       "<style scoped>\n",
       "    .dataframe tbody tr th:only-of-type {\n",
       "        vertical-align: middle;\n",
       "    }\n",
       "\n",
       "    .dataframe tbody tr th {\n",
       "        vertical-align: top;\n",
       "    }\n",
       "\n",
       "    .dataframe thead th {\n",
       "        text-align: right;\n",
       "    }\n",
       "</style>\n",
       "<table border=\"1\" class=\"dataframe\">\n",
       "  <thead>\n",
       "    <tr style=\"text-align: right;\">\n",
       "      <th></th>\n",
       "      <th>stemmed_word</th>\n",
       "      <th>normalized_word</th>\n",
       "    </tr>\n",
       "    <tr>\n",
       "      <th>word</th>\n",
       "      <th></th>\n",
       "      <th></th>\n",
       "    </tr>\n",
       "  </thead>\n",
       "  <tbody>\n",
       "    <tr>\n",
       "      <th>интерпретацию</th>\n",
       "      <td>интерпретац</td>\n",
       "      <td>интерпретация</td>\n",
       "    </tr>\n",
       "    <tr>\n",
       "      <th>скалка</th>\n",
       "      <td>скалк</td>\n",
       "      <td>скалка</td>\n",
       "    </tr>\n",
       "    <tr>\n",
       "      <th>скорость</th>\n",
       "      <td>скорост</td>\n",
       "      <td>скорость</td>\n",
       "    </tr>\n",
       "    <tr>\n",
       "      <th>примут</th>\n",
       "      <td>примут</td>\n",
       "      <td>принять</td>\n",
       "    </tr>\n",
       "    <tr>\n",
       "      <th>потому</th>\n",
       "      <td>пот</td>\n",
       "      <td>потому</td>\n",
       "    </tr>\n",
       "  </tbody>\n",
       "</table>\n",
       "</div>"
      ],
      "text/plain": [
       "              stemmed_word normalized_word\n",
       "word                                      \n",
       "интерпретацию  интерпретац   интерпретация\n",
       "скалка               скалк          скалка\n",
       "скорость           скорост        скорость\n",
       "примут              примут         принять\n",
       "потому                 пот          потому"
      ]
     },
     "execution_count": 14,
     "metadata": {},
     "output_type": "execute_result"
    }
   ],
   "source": [
    "words_df = pd.DataFrame()\n",
    "words_df['word'] = words\n",
    "\n",
    "stemmer = SnowballStemmer('russian')\n",
    "lemmatizator = pymorphy2.MorphAnalyzer()\n",
    "\n",
    "words_df['stemmed_word'] = words_df['word'].apply(stemmer.stem)\n",
    "words_df['normalized_word'] = words_df['word'].apply(lambda x: lemmatizator.parse(x)[0].normal_form)\n",
    "\n",
    "words_df = words_df.set_index('word')\n",
    "words_df.head()\n",
    "\n",
    "#Итог\n",
    "\n",
    "#Стэмминг приводит слово к его корневой форме (чаще всего не является употребляемым словом)\n",
    "\n",
    "#Лемматизация - приводит слово в формат инфинитива, Именительного падежа и т.д. \n",
    "#иными словами к его начальной форме той же части речи\n",
    "\n",
    "#Пример - разной. Корневая часть этого слова (всех его форм) получена из стемминга = разн, в то время как лемматизация\n",
    "#даёт нам полную форму прилагательного = разный"
   ]
  },
  {
   "cell_type": "markdown",
   "metadata": {},
   "source": [
    "5\\. Добавьте в таблицу `recipes` столбец `description_no_stopwords`, в котором содержится текст описания рецепта после удаления из него стоп-слов. Посчитайте и выведите на экран долю стоп-слов среди общего количества слов. Сравните топ-10 самых часто употребляемых слов до и после удаления стоп-слов."
   ]
  },
  {
   "cell_type": "code",
   "execution_count": 15,
   "metadata": {},
   "outputs": [
    {
     "data": {
      "text/html": [
       "<div>\n",
       "<style scoped>\n",
       "    .dataframe tbody tr th:only-of-type {\n",
       "        vertical-align: middle;\n",
       "    }\n",
       "\n",
       "    .dataframe tbody tr th {\n",
       "        vertical-align: top;\n",
       "    }\n",
       "\n",
       "    .dataframe thead th {\n",
       "        text-align: right;\n",
       "    }\n",
       "</style>\n",
       "<table border=\"1\" class=\"dataframe\">\n",
       "  <thead>\n",
       "    <tr style=\"text-align: right;\">\n",
       "      <th></th>\n",
       "      <th>url</th>\n",
       "      <th>name</th>\n",
       "      <th>ingredients</th>\n",
       "      <th>description</th>\n",
       "      <th>description_no_stopwords</th>\n",
       "    </tr>\n",
       "  </thead>\n",
       "  <tbody>\n",
       "    <tr>\n",
       "      <th>0</th>\n",
       "      <td>https://www.povarenok.ru/recipes/show/164365/</td>\n",
       "      <td>Густой молочно-клубничный коктейль</td>\n",
       "      <td>{'Молоко': '250 мл', 'Клубника': '200 г', 'Сах...</td>\n",
       "      <td>этот коктейль готовлю из замороженной клубники...</td>\n",
       "      <td>коктейль готовлю замороженной клубники клубник...</td>\n",
       "    </tr>\n",
       "    <tr>\n",
       "      <th>1</th>\n",
       "      <td>https://www.povarenok.ru/recipes/show/1306/</td>\n",
       "      <td>Рулетики</td>\n",
       "      <td>{'Сыр твердый': None, 'Чеснок': None, 'Яйцо ку...</td>\n",
       "      <td>быстро и вкусно</td>\n",
       "      <td>быстро вкусно</td>\n",
       "    </tr>\n",
       "    <tr>\n",
       "      <th>2</th>\n",
       "      <td>https://www.povarenok.ru/recipes/show/10625/</td>\n",
       "      <td>Салат \"Баклажанчик\"</td>\n",
       "      <td>{'Баклажан': '3 шт', 'Лук репчатый': '2 шт', '...</td>\n",
       "      <td>сытный овощной салатик пальчики оближете</td>\n",
       "      <td>сытный овощной салатик пальчики оближете</td>\n",
       "    </tr>\n",
       "    <tr>\n",
       "      <th>3</th>\n",
       "      <td>https://www.povarenok.ru/recipes/show/167337/</td>\n",
       "      <td>Куриные котлеты с картофельным пюре в духовке</td>\n",
       "      <td>{'Фарш куриный': '800 г', 'Пюре картофельное':...</td>\n",
       "      <td>картофельное пюре и куриные котлеты  вкусная к...</td>\n",
       "      <td>картофельное пюре куриные котлеты вкусная клас...</td>\n",
       "    </tr>\n",
       "    <tr>\n",
       "      <th>4</th>\n",
       "      <td>https://www.povarenok.ru/recipes/show/91919/</td>\n",
       "      <td>Рецепт вишневой наливки</td>\n",
       "      <td>{'Вишня': '1 кг', 'Водка': '1 л', 'Сахар': '30...</td>\n",
       "      <td>вишневая наливка имеет яркий вишневый вкус кот...</td>\n",
       "      <td>вишневая наливка имеет яркий вишневый вкус кот...</td>\n",
       "    </tr>\n",
       "  </tbody>\n",
       "</table>\n",
       "</div>"
      ],
      "text/plain": [
       "                                             url  \\\n",
       "0  https://www.povarenok.ru/recipes/show/164365/   \n",
       "1    https://www.povarenok.ru/recipes/show/1306/   \n",
       "2   https://www.povarenok.ru/recipes/show/10625/   \n",
       "3  https://www.povarenok.ru/recipes/show/167337/   \n",
       "4   https://www.povarenok.ru/recipes/show/91919/   \n",
       "\n",
       "                                            name  \\\n",
       "0             Густой молочно-клубничный коктейль   \n",
       "1                                       Рулетики   \n",
       "2                            Салат \"Баклажанчик\"   \n",
       "3  Куриные котлеты с картофельным пюре в духовке   \n",
       "4                        Рецепт вишневой наливки   \n",
       "\n",
       "                                         ingredients  \\\n",
       "0  {'Молоко': '250 мл', 'Клубника': '200 г', 'Сах...   \n",
       "1  {'Сыр твердый': None, 'Чеснок': None, 'Яйцо ку...   \n",
       "2  {'Баклажан': '3 шт', 'Лук репчатый': '2 шт', '...   \n",
       "3  {'Фарш куриный': '800 г', 'Пюре картофельное':...   \n",
       "4  {'Вишня': '1 кг', 'Водка': '1 л', 'Сахар': '30...   \n",
       "\n",
       "                                         description  \\\n",
       "0  этот коктейль готовлю из замороженной клубники...   \n",
       "1                                    быстро и вкусно   \n",
       "2           сытный овощной салатик пальчики оближете   \n",
       "3  картофельное пюре и куриные котлеты  вкусная к...   \n",
       "4  вишневая наливка имеет яркий вишневый вкус кот...   \n",
       "\n",
       "                            description_no_stopwords  \n",
       "0  коктейль готовлю замороженной клубники клубник...  \n",
       "1                                      быстро вкусно  \n",
       "2           сытный овощной салатик пальчики оближете  \n",
       "3  картофельное пюре куриные котлеты вкусная клас...  \n",
       "4  вишневая наливка имеет яркий вишневый вкус кот...  "
      ]
     },
     "execution_count": 15,
     "metadata": {},
     "output_type": "execute_result"
    }
   ],
   "source": [
    "def stop_words_clean(sent) -> str:\n",
    "    global stop_words\n",
    "    s_token = word_tokenize(sent)\n",
    "    res = ''\n",
    "    for cur in s_token:\n",
    "        if cur not in stop_words:\n",
    "            res += cur + ' '\n",
    "        else:\n",
    "            if cur in stop_words_share.keys():\n",
    "                stop_words_share[cur] += 1\n",
    "            else:\n",
    "                stop_words_share[cur] = 0\n",
    "                \n",
    "    return res[:-1]\n",
    "\n",
    "stop_words_share = {}\n",
    "stop_words = stopwords.words('russian')\n",
    "\n",
    "recipes['description_no_stopwords'] = recipes['description'].apply(stop_words_clean)\n",
    "\n",
    "recipes.head()"
   ]
  },
  {
   "cell_type": "code",
   "execution_count": 16,
   "metadata": {},
   "outputs": [
    {
     "name": "stdout",
     "output_type": "stream",
     "text": [
      "До удаления стоп слов:\n",
      "('и', 5054)\n",
      "('в', 2584)\n",
      "('с', 1934)\n",
      "('на', 1655)\n",
      "('очень', 1607)\n",
      "('не', 1517)\n",
      "('из', 1006)\n",
      "('я', 979)\n",
      "('рецепт', 869)\n",
      "('а', 863)\n",
      "\n",
      "После удаления стоп слов:\n",
      "('очень', 1607)\n",
      "('рецепт', 869)\n",
      "('это', 734)\n",
      "('блюдо', 524)\n",
      "('вкусный', 461)\n",
      "('просто', 436)\n",
      "('вкусно', 375)\n",
      "('приготовить', 344)\n",
      "('вкус', 324)\n",
      "('салат', 313)\n",
      "\n",
      "Доля стоп-слов в датасете:  0.3211559750626347\n"
     ]
    }
   ],
   "source": [
    "top10_before = FreqDist(all_words).most_common(10)\n",
    "print('До удаления стоп слов:', *top10_before, sep = '\\n')\n",
    "\n",
    "all_nonstop_words = []\n",
    "for cur in recipes['description_no_stopwords'].apply(word_tokenize).values:\n",
    "    all_nonstop_words.extend(cur)\n",
    "    \n",
    "top10_after = FreqDist(all_nonstop_words).most_common(10)\n",
    "print('\\nПосле удаления стоп слов:', *top10_after, sep = '\\n')\n",
    "    \n",
    "    \n",
    "print('\\nДоля стоп-слов в датасете: ', sum(stop_words_share.values()) / amount_of_words)"
   ]
  },
  {
   "cell_type": "markdown",
   "metadata": {},
   "source": [
    "### Векторное представление текста"
   ]
  },
  {
   "cell_type": "markdown",
   "metadata": {},
   "source": [
    "6\\. Выберите случайным образом 5 рецептов из набора данных, в названии которых есть слово \"оладьи\" (без учета регистра). Представьте описание каждого рецепта в виде числового вектора при помощи `TfidfVectorizer`. На основе полученных векторов создайте `pd.DataFrame`, в котором названия колонок соответствуют словам из словаря объекта-векторизатора. \n",
    "\n",
    "Примечание: обратите внимание на порядок слов при создании колонок."
   ]
  },
  {
   "cell_type": "code",
   "execution_count": 17,
   "metadata": {},
   "outputs": [
    {
     "data": {
      "text/html": [
       "<div>\n",
       "<style scoped>\n",
       "    .dataframe tbody tr th:only-of-type {\n",
       "        vertical-align: middle;\n",
       "    }\n",
       "\n",
       "    .dataframe tbody tr th {\n",
       "        vertical-align: top;\n",
       "    }\n",
       "\n",
       "    .dataframe thead th {\n",
       "        text-align: right;\n",
       "    }\n",
       "</style>\n",
       "<table border=\"1\" class=\"dataframe\">\n",
       "  <thead>\n",
       "    <tr style=\"text-align: right;\">\n",
       "      <th></th>\n",
       "      <th>url</th>\n",
       "      <th>name</th>\n",
       "      <th>ingredients</th>\n",
       "      <th>description</th>\n",
       "      <th>description_no_stopwords</th>\n",
       "    </tr>\n",
       "  </thead>\n",
       "  <tbody>\n",
       "    <tr>\n",
       "      <th>2506</th>\n",
       "      <td>https://www.povarenok.ru/recipes/show/57827/</td>\n",
       "      <td>Нежные куриные оладьи</td>\n",
       "      <td>{'Филе куриное': '500 г', 'Сыр плавленый': '2 ...</td>\n",
       "      <td>нежные сочные оладьи и очень очень очень вкусные</td>\n",
       "      <td>нежные сочные оладьи очень очень очень вкусные</td>\n",
       "    </tr>\n",
       "    <tr>\n",
       "      <th>2034</th>\n",
       "      <td>https://www.povarenok.ru/recipes/show/116312/</td>\n",
       "      <td>Оладьи кукурузно-сырные</td>\n",
       "      <td>{'Кукуруза': '1 бан.', 'Мука пшеничная': '2 ст...</td>\n",
       "      <td>опять в продолжение темы друзья оладьи чудесны...</td>\n",
       "      <td>продолжение темы друзья оладьи чудесные вспомн...</td>\n",
       "    </tr>\n",
       "    <tr>\n",
       "      <th>115</th>\n",
       "      <td>https://www.povarenok.ru/recipes/show/122866/</td>\n",
       "      <td>Овсяные оладьи с луково-гороховой начинкой</td>\n",
       "      <td>{'Мука овсяная': '1 стак.', 'Молоко': '1 стак....</td>\n",
       "      <td>очень вкусные нежный оладьи несмотря на то что...</td>\n",
       "      <td>очень вкусные нежный оладьи несмотря состоят н...</td>\n",
       "    </tr>\n",
       "    <tr>\n",
       "      <th>622</th>\n",
       "      <td>https://www.povarenok.ru/recipes/show/133390/</td>\n",
       "      <td>Тыквенные оладьи с бананами</td>\n",
       "      <td>{'Тыква': '300 г', 'Банан': '1 шт', 'Яйцо кури...</td>\n",
       "      <td>попробуйте приготовить вкусные оладьи из тыквы...</td>\n",
       "      <td>попробуйте приготовить вкусные оладьи тыквы ба...</td>\n",
       "    </tr>\n",
       "    <tr>\n",
       "      <th>1745</th>\n",
       "      <td>https://www.povarenok.ru/recipes/show/81631/</td>\n",
       "      <td>Воздушные оладьи</td>\n",
       "      <td>{'Фарш мясной': '500 г', 'Лук репчатый': '1 шт...</td>\n",
       "      <td>это отличное блюдо для завтрака обеда ужина  т...</td>\n",
       "      <td>это отличное блюдо завтрака обеда ужина тесто ...</td>\n",
       "    </tr>\n",
       "  </tbody>\n",
       "</table>\n",
       "</div>"
      ],
      "text/plain": [
       "                                                url  \\\n",
       "2506   https://www.povarenok.ru/recipes/show/57827/   \n",
       "2034  https://www.povarenok.ru/recipes/show/116312/   \n",
       "115   https://www.povarenok.ru/recipes/show/122866/   \n",
       "622   https://www.povarenok.ru/recipes/show/133390/   \n",
       "1745   https://www.povarenok.ru/recipes/show/81631/   \n",
       "\n",
       "                                            name  \\\n",
       "2506                       Нежные куриные оладьи   \n",
       "2034                     Оладьи кукурузно-сырные   \n",
       "115   Овсяные оладьи с луково-гороховой начинкой   \n",
       "622                  Тыквенные оладьи с бананами   \n",
       "1745                            Воздушные оладьи   \n",
       "\n",
       "                                            ingredients  \\\n",
       "2506  {'Филе куриное': '500 г', 'Сыр плавленый': '2 ...   \n",
       "2034  {'Кукуруза': '1 бан.', 'Мука пшеничная': '2 ст...   \n",
       "115   {'Мука овсяная': '1 стак.', 'Молоко': '1 стак....   \n",
       "622   {'Тыква': '300 г', 'Банан': '1 шт', 'Яйцо кури...   \n",
       "1745  {'Фарш мясной': '500 г', 'Лук репчатый': '1 шт...   \n",
       "\n",
       "                                            description  \\\n",
       "2506   нежные сочные оладьи и очень очень очень вкусные   \n",
       "2034  опять в продолжение темы друзья оладьи чудесны...   \n",
       "115   очень вкусные нежный оладьи несмотря на то что...   \n",
       "622   попробуйте приготовить вкусные оладьи из тыквы...   \n",
       "1745  это отличное блюдо для завтрака обеда ужина  т...   \n",
       "\n",
       "                               description_no_stopwords  \n",
       "2506     нежные сочные оладьи очень очень очень вкусные  \n",
       "2034  продолжение темы друзья оладьи чудесные вспомн...  \n",
       "115   очень вкусные нежный оладьи несмотря состоят н...  \n",
       "622   попробуйте приготовить вкусные оладьи тыквы ба...  \n",
       "1745  это отличное блюдо завтрака обеда ужина тесто ...  "
      ]
     },
     "execution_count": 17,
     "metadata": {},
     "output_type": "execute_result"
    }
   ],
   "source": [
    "def masking(s):\n",
    "    return (s.apply(lambda x: 'оладьи' in x.lower()))\n",
    "\n",
    "pank = recipes[masking(recipes['description'])].sample(5)\n",
    "pank"
   ]
  },
  {
   "cell_type": "code",
   "execution_count": 18,
   "metadata": {},
   "outputs": [
    {
     "data": {
      "text/html": [
       "<div>\n",
       "<style scoped>\n",
       "    .dataframe tbody tr th:only-of-type {\n",
       "        vertical-align: middle;\n",
       "    }\n",
       "\n",
       "    .dataframe tbody tr th {\n",
       "        vertical-align: top;\n",
       "    }\n",
       "\n",
       "    .dataframe thead th {\n",
       "        text-align: right;\n",
       "    }\n",
       "</style>\n",
       "<table border=\"1\" class=\"dataframe\">\n",
       "  <thead>\n",
       "    <tr style=\"text-align: right;\">\n",
       "      <th></th>\n",
       "      <th>200мл</th>\n",
       "      <th>ароматными</th>\n",
       "      <th>банана</th>\n",
       "      <th>без</th>\n",
       "      <th>блины</th>\n",
       "      <th>блюдо</th>\n",
       "      <th>будут</th>\n",
       "      <th>был</th>\n",
       "      <th>быстрее</th>\n",
       "      <th>быстро</th>\n",
       "      <th>...</th>\n",
       "      <th>уютно</th>\n",
       "      <th>фарша</th>\n",
       "      <th>хозяек</th>\n",
       "      <th>хороший</th>\n",
       "      <th>хорошо</th>\n",
       "      <th>что</th>\n",
       "      <th>чудесные</th>\n",
       "      <th>шалот</th>\n",
       "      <th>это</th>\n",
       "      <th>этом</th>\n",
       "    </tr>\n",
       "  </thead>\n",
       "  <tbody>\n",
       "    <tr>\n",
       "      <th>0</th>\n",
       "      <td>0.000000</td>\n",
       "      <td>0.00000</td>\n",
       "      <td>0.00000</td>\n",
       "      <td>0.000000</td>\n",
       "      <td>0.000000</td>\n",
       "      <td>0.000000</td>\n",
       "      <td>0.000000</td>\n",
       "      <td>0.000000</td>\n",
       "      <td>0.000000</td>\n",
       "      <td>0.000000</td>\n",
       "      <td>...</td>\n",
       "      <td>0.000000</td>\n",
       "      <td>0.000000</td>\n",
       "      <td>0.000000</td>\n",
       "      <td>0.000000</td>\n",
       "      <td>0.000000</td>\n",
       "      <td>0.000000</td>\n",
       "      <td>0.000000</td>\n",
       "      <td>0.000000</td>\n",
       "      <td>0.000000</td>\n",
       "      <td>0.000000</td>\n",
       "    </tr>\n",
       "    <tr>\n",
       "      <th>1</th>\n",
       "      <td>0.000000</td>\n",
       "      <td>0.00000</td>\n",
       "      <td>0.00000</td>\n",
       "      <td>0.000000</td>\n",
       "      <td>0.000000</td>\n",
       "      <td>0.116277</td>\n",
       "      <td>0.144123</td>\n",
       "      <td>0.000000</td>\n",
       "      <td>0.000000</td>\n",
       "      <td>0.000000</td>\n",
       "      <td>...</td>\n",
       "      <td>0.144123</td>\n",
       "      <td>0.000000</td>\n",
       "      <td>0.000000</td>\n",
       "      <td>0.000000</td>\n",
       "      <td>0.000000</td>\n",
       "      <td>0.116277</td>\n",
       "      <td>0.144123</td>\n",
       "      <td>0.000000</td>\n",
       "      <td>0.000000</td>\n",
       "      <td>0.000000</td>\n",
       "    </tr>\n",
       "    <tr>\n",
       "      <th>2</th>\n",
       "      <td>0.139572</td>\n",
       "      <td>0.00000</td>\n",
       "      <td>0.00000</td>\n",
       "      <td>0.000000</td>\n",
       "      <td>0.000000</td>\n",
       "      <td>0.000000</td>\n",
       "      <td>0.000000</td>\n",
       "      <td>0.139572</td>\n",
       "      <td>0.000000</td>\n",
       "      <td>0.000000</td>\n",
       "      <td>...</td>\n",
       "      <td>0.000000</td>\n",
       "      <td>0.139572</td>\n",
       "      <td>0.000000</td>\n",
       "      <td>0.139572</td>\n",
       "      <td>0.139572</td>\n",
       "      <td>0.112606</td>\n",
       "      <td>0.000000</td>\n",
       "      <td>0.139572</td>\n",
       "      <td>0.000000</td>\n",
       "      <td>0.139572</td>\n",
       "    </tr>\n",
       "    <tr>\n",
       "      <th>3</th>\n",
       "      <td>0.000000</td>\n",
       "      <td>0.24195</td>\n",
       "      <td>0.24195</td>\n",
       "      <td>0.000000</td>\n",
       "      <td>0.000000</td>\n",
       "      <td>0.000000</td>\n",
       "      <td>0.000000</td>\n",
       "      <td>0.000000</td>\n",
       "      <td>0.000000</td>\n",
       "      <td>0.000000</td>\n",
       "      <td>...</td>\n",
       "      <td>0.000000</td>\n",
       "      <td>0.000000</td>\n",
       "      <td>0.000000</td>\n",
       "      <td>0.000000</td>\n",
       "      <td>0.000000</td>\n",
       "      <td>0.000000</td>\n",
       "      <td>0.000000</td>\n",
       "      <td>0.000000</td>\n",
       "      <td>0.000000</td>\n",
       "      <td>0.000000</td>\n",
       "    </tr>\n",
       "    <tr>\n",
       "      <th>4</th>\n",
       "      <td>0.000000</td>\n",
       "      <td>0.00000</td>\n",
       "      <td>0.00000</td>\n",
       "      <td>0.153058</td>\n",
       "      <td>0.153058</td>\n",
       "      <td>0.123486</td>\n",
       "      <td>0.000000</td>\n",
       "      <td>0.000000</td>\n",
       "      <td>0.153058</td>\n",
       "      <td>0.153058</td>\n",
       "      <td>...</td>\n",
       "      <td>0.000000</td>\n",
       "      <td>0.000000</td>\n",
       "      <td>0.153058</td>\n",
       "      <td>0.000000</td>\n",
       "      <td>0.000000</td>\n",
       "      <td>0.000000</td>\n",
       "      <td>0.000000</td>\n",
       "      <td>0.000000</td>\n",
       "      <td>0.153058</td>\n",
       "      <td>0.000000</td>\n",
       "    </tr>\n",
       "  </tbody>\n",
       "</table>\n",
       "<p>5 rows × 142 columns</p>\n",
       "</div>"
      ],
      "text/plain": [
       "      200мл  ароматными   банана       без     блины     блюдо     будут  \\\n",
       "0  0.000000     0.00000  0.00000  0.000000  0.000000  0.000000  0.000000   \n",
       "1  0.000000     0.00000  0.00000  0.000000  0.000000  0.116277  0.144123   \n",
       "2  0.139572     0.00000  0.00000  0.000000  0.000000  0.000000  0.000000   \n",
       "3  0.000000     0.24195  0.24195  0.000000  0.000000  0.000000  0.000000   \n",
       "4  0.000000     0.00000  0.00000  0.153058  0.153058  0.123486  0.000000   \n",
       "\n",
       "        был   быстрее    быстро  ...     уютно     фарша    хозяек   хороший  \\\n",
       "0  0.000000  0.000000  0.000000  ...  0.000000  0.000000  0.000000  0.000000   \n",
       "1  0.000000  0.000000  0.000000  ...  0.144123  0.000000  0.000000  0.000000   \n",
       "2  0.139572  0.000000  0.000000  ...  0.000000  0.139572  0.000000  0.139572   \n",
       "3  0.000000  0.000000  0.000000  ...  0.000000  0.000000  0.000000  0.000000   \n",
       "4  0.000000  0.153058  0.153058  ...  0.000000  0.000000  0.153058  0.000000   \n",
       "\n",
       "     хорошо       что  чудесные     шалот       это      этом  \n",
       "0  0.000000  0.000000  0.000000  0.000000  0.000000  0.000000  \n",
       "1  0.000000  0.116277  0.144123  0.000000  0.000000  0.000000  \n",
       "2  0.139572  0.112606  0.000000  0.139572  0.000000  0.139572  \n",
       "3  0.000000  0.000000  0.000000  0.000000  0.000000  0.000000  \n",
       "4  0.000000  0.000000  0.000000  0.000000  0.153058  0.000000  \n",
       "\n",
       "[5 rows x 142 columns]"
      ]
     },
     "execution_count": 18,
     "metadata": {},
     "output_type": "execute_result"
    }
   ],
   "source": [
    "vectorizer = TfidfVectorizer()\n",
    "vectors = vectorizer.fit_transform(pank.loc[cur]['description'] for cur in pank.index)\n",
    "\n",
    "names = vectorizer.get_feature_names_out()\n",
    "\n",
    "new_data = pd.DataFrame(vectors.toarray(), columns = names)\n",
    "\n",
    "new_data  #Порядок слов алфавитный"
   ]
  },
  {
   "cell_type": "markdown",
   "metadata": {},
   "source": [
    "7\\. Вычислите близость между каждой парой рецептов, выбранных в задании 6, используя косинусное расстояние (можно воспользоваться функциями из любого пакета: `scipy`, `scikit-learn` или реализовать функцию самому). Результаты оформите в виде таблицы `pd.DataFrame`. В качестве названий строк и столбцов используйте названия рецептов.\n",
    "\n",
    "Примечание: обратите внимание, что $d_{cosine}(x, x) = 0$"
   ]
  },
  {
   "cell_type": "code",
   "execution_count": 19,
   "metadata": {},
   "outputs": [
    {
     "data": {
      "text/html": [
       "<div>\n",
       "<style scoped>\n",
       "    .dataframe tbody tr th:only-of-type {\n",
       "        vertical-align: middle;\n",
       "    }\n",
       "\n",
       "    .dataframe tbody tr th {\n",
       "        vertical-align: top;\n",
       "    }\n",
       "\n",
       "    .dataframe thead th {\n",
       "        text-align: right;\n",
       "    }\n",
       "</style>\n",
       "<table border=\"1\" class=\"dataframe\">\n",
       "  <thead>\n",
       "    <tr style=\"text-align: right;\">\n",
       "      <th></th>\n",
       "      <th>Нежные куриные оладьи</th>\n",
       "      <th>Оладьи кукурузно-сырные</th>\n",
       "      <th>Овсяные оладьи с луково-гороховой начинкой</th>\n",
       "      <th>Тыквенные оладьи с бананами</th>\n",
       "      <th>Воздушные оладьи</th>\n",
       "    </tr>\n",
       "  </thead>\n",
       "  <tbody>\n",
       "    <tr>\n",
       "      <th>Нежные куриные оладьи</th>\n",
       "      <td>0.000000</td>\n",
       "      <td>0.922848</td>\n",
       "      <td>0.925284</td>\n",
       "      <td>0.870479</td>\n",
       "      <td>0.918065</td>\n",
       "    </tr>\n",
       "    <tr>\n",
       "      <th>Оладьи кукурузно-сырные</th>\n",
       "      <td>0.922848</td>\n",
       "      <td>0.000000</td>\n",
       "      <td>0.973204</td>\n",
       "      <td>0.976247</td>\n",
       "      <td>0.898822</td>\n",
       "    </tr>\n",
       "    <tr>\n",
       "      <th>Овсяные оладьи с луково-гороховой начинкой</th>\n",
       "      <td>0.925284</td>\n",
       "      <td>0.973204</td>\n",
       "      <td>0.000000</td>\n",
       "      <td>0.902743</td>\n",
       "      <td>0.938475</td>\n",
       "    </tr>\n",
       "    <tr>\n",
       "      <th>Тыквенные оладьи с бананами</th>\n",
       "      <td>0.870479</td>\n",
       "      <td>0.976247</td>\n",
       "      <td>0.902743</td>\n",
       "      <td>0.000000</td>\n",
       "      <td>0.909955</td>\n",
       "    </tr>\n",
       "    <tr>\n",
       "      <th>Воздушные оладьи</th>\n",
       "      <td>0.918065</td>\n",
       "      <td>0.898822</td>\n",
       "      <td>0.938475</td>\n",
       "      <td>0.909955</td>\n",
       "      <td>0.000000</td>\n",
       "    </tr>\n",
       "  </tbody>\n",
       "</table>\n",
       "</div>"
      ],
      "text/plain": [
       "                                            Нежные куриные оладьи  \\\n",
       "Нежные куриные оладьи                                    0.000000   \n",
       "Оладьи кукурузно-сырные                                  0.922848   \n",
       "Овсяные оладьи с луково-гороховой начинкой               0.925284   \n",
       "Тыквенные оладьи с бананами                              0.870479   \n",
       "Воздушные оладьи                                         0.918065   \n",
       "\n",
       "                                            Оладьи кукурузно-сырные  \\\n",
       "Нежные куриные оладьи                                      0.922848   \n",
       "Оладьи кукурузно-сырные                                    0.000000   \n",
       "Овсяные оладьи с луково-гороховой начинкой                 0.973204   \n",
       "Тыквенные оладьи с бананами                                0.976247   \n",
       "Воздушные оладьи                                           0.898822   \n",
       "\n",
       "                                            Овсяные оладьи с луково-гороховой начинкой  \\\n",
       "Нежные куриные оладьи                                                         0.925284   \n",
       "Оладьи кукурузно-сырные                                                       0.973204   \n",
       "Овсяные оладьи с луково-гороховой начинкой                                    0.000000   \n",
       "Тыквенные оладьи с бананами                                                   0.902743   \n",
       "Воздушные оладьи                                                              0.938475   \n",
       "\n",
       "                                            Тыквенные оладьи с бананами  \\\n",
       "Нежные куриные оладьи                                          0.870479   \n",
       "Оладьи кукурузно-сырные                                        0.976247   \n",
       "Овсяные оладьи с луково-гороховой начинкой                     0.902743   \n",
       "Тыквенные оладьи с бананами                                    0.000000   \n",
       "Воздушные оладьи                                               0.909955   \n",
       "\n",
       "                                            Воздушные оладьи  \n",
       "Нежные куриные оладьи                               0.918065  \n",
       "Оладьи кукурузно-сырные                             0.898822  \n",
       "Овсяные оладьи с луково-гороховой начинкой          0.938475  \n",
       "Тыквенные оладьи с бананами                         0.909955  \n",
       "Воздушные оладьи                                    0.000000  "
      ]
     },
     "execution_count": 19,
     "metadata": {},
     "output_type": "execute_result"
    }
   ],
   "source": [
    "names = pank['name'].values\n",
    "\n",
    "data = np.zeros((5, 5))\n",
    "\n",
    "for u in range(5):\n",
    "    for v in range(5):\n",
    "        data[u, v] = cosine(new_data.iloc[u].values, new_data.iloc[v].values)\n",
    "\n",
    "form_pank = pd.DataFrame(data, columns = names, index = names)\n",
    "\n",
    "form_pank"
   ]
  },
  {
   "cell_type": "markdown",
   "metadata": {},
   "source": [
    "8\\. Напишите функцию, которая принимает на вход `pd.DataFrame`, полученный в задании 7, и возвращает в виде кортежа названия двух различных рецептов, которые являются наиболее похожими. Прокомментируйте результат (в виде текстового комментария). Для объяснения результата сравните слова в описаниях двух этих отзывов."
   ]
  },
  {
   "cell_type": "code",
   "execution_count": 20,
   "metadata": {},
   "outputs": [
    {
     "name": "stdout",
     "output_type": "stream",
     "text": [
      "Нежные куриные оладьи ,  Тыквенные оладьи с бананами\n",
      "\n",
      "Описание 1: нежные сочные оладьи и очень очень очень вкусные\n",
      "\n",
      "Описание 2: попробуйте приготовить вкусные оладьи из тыквы и банана тыквенные оладушки получаются очень нежными и ароматными рекомендую на завтрак или полдник для всей семьи\n"
     ]
    }
   ],
   "source": [
    "def find_closest(sim_df: pd.DataFrame) -> tuple:\n",
    "    ind1, ind2 = np.where(sim_df == sim_df[sim_df > 0].min().min())[0]\n",
    "    return([sim_df.index[ind1], sim_df.index[ind2]])\n",
    "                   \n",
    "name1, name2 = find_closest(form_pank)\n",
    "\n",
    "print(name1, ', ', name2)\n",
    "\n",
    "desc1 = recipes[recipes['name'] == name1]['description'].values[0]\n",
    "desc2 = recipes[recipes['name'] == name2]['description'].values[0]\n",
    "\n",
    "print('\\nОписание 1:', desc1)\n",
    "print('\\nОписание 2:', desc2)"
   ]
  },
  {
   "cell_type": "code",
   "execution_count": null,
   "metadata": {},
   "outputs": [],
   "source": [
    "#Косинусное расстояние показывает, чем ближе число к 0, тем более похожи фразы между собой\n",
    "#Соответственно при значении ~0,8 (полученный пример) фразы мало похожи между собой и содержат несколько общих слов\n",
    "\n",
    "#В данном примере общие слова это: очень, вкусные, оладьи, и"
   ]
  },
  {
   "cell_type": "code",
   "execution_count": null,
   "metadata": {},
   "outputs": [],
   "source": []
  },
  {
   "cell_type": "code",
   "execution_count": null,
   "metadata": {},
   "outputs": [],
   "source": []
  }
 ],
 "metadata": {
  "kernelspec": {
   "display_name": "Python 3",
   "language": "python",
   "name": "python3"
  },
  "language_info": {
   "codemirror_mode": {
    "name": "ipython",
    "version": 3
   },
   "file_extension": ".py",
   "mimetype": "text/x-python",
   "name": "python",
   "nbconvert_exporter": "python",
   "pygments_lexer": "ipython3",
   "version": "3.8.3"
  }
 },
 "nbformat": 4,
 "nbformat_minor": 4
}
