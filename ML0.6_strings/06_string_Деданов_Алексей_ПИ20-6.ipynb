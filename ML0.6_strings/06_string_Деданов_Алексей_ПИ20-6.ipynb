{
 "cells": [
  {
   "cell_type": "markdown",
   "metadata": {},
   "source": [
    "# Работа со строковыми значениями"
   ]
  },
  {
   "cell_type": "markdown",
   "metadata": {},
   "source": [
    "__Автор задач: Блохин Н.В. (NVBlokhin@fa.ru)__\n",
    "\n",
    "Материалы:\n",
    "* Макрушин С.В. Лекция \"Работа со строковыми значениям\"\n",
    "* https://pyformat.info/\n",
    "* https://docs.python.org/3/library/re.html\n",
    "    * https://docs.python.org/3/library/re.html#flags\n",
    "    * https://docs.python.org/3/library/re.html#functions\n",
    "* https://pythonru.com/primery/primery-primeneniya-regulyarnyh-vyrazheniy-v-python\n",
    "* https://kanoki.org/2019/11/12/how-to-use-regex-in-pandas/\n",
    "* https://realpython.com/nltk-nlp-python/"
   ]
  },
  {
   "cell_type": "markdown",
   "metadata": {},
   "source": [
    "## Задачи для совместного разбора"
   ]
  },
  {
   "cell_type": "code",
   "execution_count": 1,
   "metadata": {},
   "outputs": [],
   "source": [
    "import pandas as pd\n",
    "import  re"
   ]
  },
  {
   "cell_type": "markdown",
   "metadata": {},
   "source": [
    "1. Вывести на экран данные из словаря `obj` построчно в виде `k = v`, задав формат таким образом, чтобы знак равенства оказался на одной и той же позиции во всех строках. Строковые литералы обернуть в кавычки."
   ]
  },
  {
   "cell_type": "code",
   "execution_count": 2,
   "metadata": {},
   "outputs": [],
   "source": [
    "obj = {\n",
    "    \"home_page\": \"https://github.com/pypa/sampleproject\",\n",
    "    \"keywords\": \"sample setuptools development\",\n",
    "    \"license\": \"MIT\",\n",
    "}"
   ]
  },
  {
   "cell_type": "code",
   "execution_count": 3,
   "metadata": {},
   "outputs": [
    {
     "ename": "SyntaxError",
     "evalue": "EOL while scanning string literal (<ipython-input-3-8e6e22d33133>, line 3)",
     "output_type": "error",
     "traceback": [
      "\u001b[1;36m  File \u001b[1;32m\"<ipython-input-3-8e6e22d33133>\"\u001b[1;36m, line \u001b[1;32m3\u001b[0m\n\u001b[1;33m    f\"{name=}'\u001b[0m\n\u001b[1;37m              ^\u001b[0m\n\u001b[1;31mSyntaxError\u001b[0m\u001b[1;31m:\u001b[0m EOL while scanning string literal\n"
     ]
    }
   ],
   "source": [
    "name = 'Ilya'\n",
    "#f'{name} has 0 points'\n",
    "f\"{name=}'"
   ]
  },
  {
   "cell_type": "code",
   "execution_count": 4,
   "metadata": {},
   "outputs": [
    {
     "name": "stdout",
     "output_type": "stream",
     "text": [
      "home_page  = 'https://github.com/pypa/sampleproject'\n",
      "keywords   = 'sample setuptools development'\n",
      "license    = 'MIT'\n"
     ]
    }
   ],
   "source": [
    "for k, v in obj.items():\n",
    "    print(f\"{k:10} = '{v}'\")"
   ]
  },
  {
   "cell_type": "markdown",
   "metadata": {},
   "source": [
    "2. Написать регулярное выражение,которое позволит найти номера групп студентов."
   ]
  },
  {
   "cell_type": "code",
   "execution_count": 5,
   "metadata": {},
   "outputs": [
    {
     "data": {
      "text/plain": [
       "0    Евгения гр.ПМ19-1\n",
       "1         Илья пм 20-4\n",
       "2            Анна 20-3\n",
       "dtype: object"
      ]
     },
     "execution_count": 5,
     "metadata": {},
     "output_type": "execute_result"
    }
   ],
   "source": [
    "obj = pd.Series([\"Евгения гр.ПМ19-1\", \"Илья пм 20-4\", \"Анна 20-3\"])\n",
    "obj"
   ]
  },
  {
   "cell_type": "code",
   "execution_count": 6,
   "metadata": {},
   "outputs": [
    {
     "name": "stdout",
     "output_type": "stream",
     "text": [
      "Евгения гр.ПМ19-1    ['19-1']\n",
      "Илья пм 20-4         ['20-4']\n",
      "Анна 20-3            ['20-3']\n"
     ]
    }
   ],
   "source": [
    "patt = re.compile(r\"\\d\\d-\\d\")\n",
    "\n",
    "for item in obj:\n",
    "    print(f'{item:20}', patt.findall(item))"
   ]
  },
  {
   "cell_type": "code",
   "execution_count": 7,
   "metadata": {},
   "outputs": [
    {
     "name": "stdout",
     "output_type": "stream",
     "text": [
      "Евгения гр.ПМ19-1    ['ПМ19-1']\n",
      "Илья пм 20-4         []\n",
      "Анна 20-3            []\n"
     ]
    }
   ],
   "source": [
    "patt = re.compile(r\"ПМ\\d\\d-\\d\", re.I)\n",
    "\n",
    "for item in obj:\n",
    "    print(f'{item:20}', patt.findall(item))"
   ]
  },
  {
   "cell_type": "code",
   "execution_count": 8,
   "metadata": {},
   "outputs": [
    {
     "name": "stdout",
     "output_type": "stream",
     "text": [
      "Евгения гр.ПМ19-1    []\n",
      "Илья пм 20-4         ['пм 20-4']\n",
      "Анна 20-3            []\n"
     ]
    }
   ],
   "source": [
    "patt = re.compile(r\"ПМ\\s\\d\\d-\\d\", re.I)\n",
    "\n",
    "for item in obj:\n",
    "    print(f'{item:20}', patt.findall(item))"
   ]
  },
  {
   "cell_type": "code",
   "execution_count": 9,
   "metadata": {},
   "outputs": [
    {
     "name": "stdout",
     "output_type": "stream",
     "text": [
      "Евгения гр.ПМ19-1    ['ПМ19-1']\n",
      "Илья пм 20-4         ['пм 20-4']\n",
      "Анна 20-3            []\n"
     ]
    }
   ],
   "source": [
    "patt = re.compile(r\"ПМ\\s?\\d\\d-\\d\", re.I)\n",
    "\n",
    "for item in obj:\n",
    "    print(f'{item:20}', patt.findall(item))"
   ]
  },
  {
   "cell_type": "code",
   "execution_count": 10,
   "metadata": {},
   "outputs": [
    {
     "name": "stdout",
     "output_type": "stream",
     "text": [
      "Евгения гр.ПМ19-1    ['ПМ']\n",
      "Илья пм 20-4         ['пм']\n",
      "Анна 20-3            ['']\n"
     ]
    }
   ],
   "source": [
    "patt = re.compile(r\"(ПМ)?\\s?\\d+-\\d\", re.I)\n",
    "\n",
    "for item in obj:\n",
    "    print(f'{item:20}', patt.findall(item))"
   ]
  },
  {
   "cell_type": "code",
   "execution_count": 11,
   "metadata": {},
   "outputs": [
    {
     "name": "stdout",
     "output_type": "stream",
     "text": [
      "Евгения гр.ПМ19-1    ['ПМ19-1']\n",
      "Илья пм 20-4         ['пм 20-4']\n",
      "Анна 20-3            [' 20-3']\n"
     ]
    }
   ],
   "source": [
    "patt = re.compile(r\"(?:ПМ)?\\s?\\d+-\\d\", re.I)\n",
    "\n",
    "for item in obj:\n",
    "    print(f'{item:20}', patt.findall(item))"
   ]
  },
  {
   "cell_type": "code",
   "execution_count": 12,
   "metadata": {},
   "outputs": [
    {
     "data": {
      "text/plain": [
       "0    1\n",
       "1    1\n",
       "2    1\n",
       "dtype: int64"
      ]
     },
     "execution_count": 12,
     "metadata": {},
     "output_type": "execute_result"
    }
   ],
   "source": [
    "obj.str.findall(patt).map(len)"
   ]
  },
  {
   "cell_type": "markdown",
   "metadata": {},
   "source": [
    "3. Разбейте текст формулировки задачи 2 на слова."
   ]
  },
  {
   "cell_type": "code",
   "execution_count": 13,
   "metadata": {},
   "outputs": [
    {
     "data": {
      "text/plain": [
       "['Написать',\n",
       " 'регулярное',\n",
       " 'выражение,которое',\n",
       " 'позволит',\n",
       " 'найти',\n",
       " 'номера',\n",
       " 'групп',\n",
       " 'студентов.']"
      ]
     },
     "execution_count": 13,
     "metadata": {},
     "output_type": "execute_result"
    }
   ],
   "source": [
    "text = 'Написать регулярное выражение,которое позволит найти номера групп студентов.'\n",
    "\n",
    "text.split()"
   ]
  },
  {
   "cell_type": "code",
   "execution_count": 43,
   "metadata": {},
   "outputs": [],
   "source": [
    "import nltk"
   ]
  },
  {
   "cell_type": "code",
   "execution_count": 17,
   "metadata": {},
   "outputs": [
    {
     "name": "stderr",
     "output_type": "stream",
     "text": [
      "[nltk_data] Downloading package punkt to\n",
      "[nltk_data]     C:\\Users\\297\\AppData\\Roaming\\nltk_data...\n",
      "[nltk_data]   Unzipping tokenizers\\punkt.zip.\n"
     ]
    },
    {
     "data": {
      "text/plain": [
       "True"
      ]
     },
     "execution_count": 17,
     "metadata": {},
     "output_type": "execute_result"
    }
   ],
   "source": [
    "nltk.download('punkt')"
   ]
  },
  {
   "cell_type": "code",
   "execution_count": 18,
   "metadata": {},
   "outputs": [
    {
     "data": {
      "text/plain": [
       "['Написать',\n",
       " 'регулярное',\n",
       " 'выражение',\n",
       " ',',\n",
       " 'которое',\n",
       " 'позволит',\n",
       " 'найти',\n",
       " 'номера',\n",
       " 'групп',\n",
       " 'студентов',\n",
       " '.']"
      ]
     },
     "execution_count": 18,
     "metadata": {},
     "output_type": "execute_result"
    }
   ],
   "source": [
    "nltk.word_tokenize(text)"
   ]
  },
  {
   "cell_type": "code",
   "execution_count": 19,
   "metadata": {},
   "outputs": [
    {
     "data": {
      "text/plain": [
       "['Написать',\n",
       " 'регулярное',\n",
       " 'выражение',\n",
       " 'которое',\n",
       " 'позволит',\n",
       " 'найти',\n",
       " 'номера',\n",
       " 'групп',\n",
       " 'студентов']"
      ]
     },
     "execution_count": 19,
     "metadata": {},
     "output_type": "execute_result"
    }
   ],
   "source": [
    "tokenizer = nltk.tokenize.RegexpTokenizer(r\"\\w+\")\n",
    "tokenizer.tokenize(text)"
   ]
  },
  {
   "cell_type": "code",
   "execution_count": 20,
   "metadata": {},
   "outputs": [
    {
     "data": {
      "text/plain": [
       "['Мы сегодня.', 'Устали, или нет!', 'Однако ли ?', '?']"
      ]
     },
     "execution_count": 20,
     "metadata": {},
     "output_type": "execute_result"
    }
   ],
   "source": [
    "nltk.sent_tokenize(\"Мы сегодня. Устали, или нет! Однако ли ??\")"
   ]
  },
  {
   "cell_type": "markdown",
   "metadata": {},
   "source": [
    "## Лабораторная работа 6"
   ]
  },
  {
   "cell_type": "markdown",
   "metadata": {},
   "source": [
    "### Форматирование строк"
   ]
  },
  {
   "cell_type": "markdown",
   "metadata": {},
   "source": [
    "1\\. Загрузите данные из файла `recipes_sample.csv` (__ЛР2__) в виде `pd.DataFrame` `recipes` При помощи форматирования строк выведите информацию об id рецепта и времени выполнения 5 случайных рецептов в виде таблицы следующего вида:\n",
    "\n",
    "    \n",
    "    |      id      |  minutes  |\n",
    "    |--------------------------|\n",
    "    |    61178     |    65     |\n",
    "    |    202352    |    80     |\n",
    "    |    364322    |    150    |\n",
    "    |    26177     |    20     |\n",
    "    |    224785    |    35     |\n",
    "    \n",
    "Обратите внимание, что ширина столбцов заранее неизвестна и должна рассчитываться динамически, в зависимости от тех данных, которые были выбраны. "
   ]
  },
  {
   "cell_type": "code",
   "execution_count": 21,
   "metadata": {},
   "outputs": [
    {
     "data": {
      "text/html": [
       "<div>\n",
       "<style scoped>\n",
       "    .dataframe tbody tr th:only-of-type {\n",
       "        vertical-align: middle;\n",
       "    }\n",
       "\n",
       "    .dataframe tbody tr th {\n",
       "        vertical-align: top;\n",
       "    }\n",
       "\n",
       "    .dataframe thead th {\n",
       "        text-align: right;\n",
       "    }\n",
       "</style>\n",
       "<table border=\"1\" class=\"dataframe\">\n",
       "  <thead>\n",
       "    <tr style=\"text-align: right;\">\n",
       "      <th></th>\n",
       "      <th>name</th>\n",
       "      <th>id</th>\n",
       "      <th>minutes</th>\n",
       "      <th>contributor_id</th>\n",
       "      <th>submitted</th>\n",
       "      <th>n_steps</th>\n",
       "      <th>description</th>\n",
       "      <th>n_ingredients</th>\n",
       "    </tr>\n",
       "  </thead>\n",
       "  <tbody>\n",
       "    <tr>\n",
       "      <th>16029</th>\n",
       "      <td>lemony corn on the cob</td>\n",
       "      <td>125367</td>\n",
       "      <td>25</td>\n",
       "      <td>82616</td>\n",
       "      <td>2005-06-09</td>\n",
       "      <td>NaN</td>\n",
       "      <td>this recipe was in a cookbook that my springti...</td>\n",
       "      <td>NaN</td>\n",
       "    </tr>\n",
       "    <tr>\n",
       "      <th>21715</th>\n",
       "      <td>pumpkin muffins  gluten free and vegan</td>\n",
       "      <td>396705</td>\n",
       "      <td>30</td>\n",
       "      <td>787060</td>\n",
       "      <td>2009-10-27</td>\n",
       "      <td>9.0</td>\n",
       "      <td>this is adapted from my banana muffin recipe. ...</td>\n",
       "      <td>NaN</td>\n",
       "    </tr>\n",
       "    <tr>\n",
       "      <th>465</th>\n",
       "      <td>all purpose hawaiian marinade</td>\n",
       "      <td>186631</td>\n",
       "      <td>15</td>\n",
       "      <td>353800</td>\n",
       "      <td>2006-09-18</td>\n",
       "      <td>5.0</td>\n",
       "      <td>i originally concocted this recipe for a party...</td>\n",
       "      <td>14.0</td>\n",
       "    </tr>\n",
       "    <tr>\n",
       "      <th>4310</th>\n",
       "      <td>ca sizzles tijuana torte</td>\n",
       "      <td>459518</td>\n",
       "      <td>40</td>\n",
       "      <td>724631</td>\n",
       "      <td>2011-06-27</td>\n",
       "      <td>10.0</td>\n",
       "      <td>entered for safe-keeping, this is a little spi...</td>\n",
       "      <td>9.0</td>\n",
       "    </tr>\n",
       "    <tr>\n",
       "      <th>15023</th>\n",
       "      <td>joe s general tso chicken</td>\n",
       "      <td>248344</td>\n",
       "      <td>60</td>\n",
       "      <td>144843</td>\n",
       "      <td>2007-08-23</td>\n",
       "      <td>17.0</td>\n",
       "      <td>my husband loves this recipe.  i've taken seve...</td>\n",
       "      <td>14.0</td>\n",
       "    </tr>\n",
       "  </tbody>\n",
       "</table>\n",
       "</div>"
      ],
      "text/plain": [
       "                                         name      id  minutes  \\\n",
       "16029                  lemony corn on the cob  125367       25   \n",
       "21715  pumpkin muffins  gluten free and vegan  396705       30   \n",
       "465             all purpose hawaiian marinade  186631       15   \n",
       "4310                 ca sizzles tijuana torte  459518       40   \n",
       "15023               joe s general tso chicken  248344       60   \n",
       "\n",
       "       contributor_id   submitted  n_steps  \\\n",
       "16029           82616  2005-06-09      NaN   \n",
       "21715          787060  2009-10-27      9.0   \n",
       "465            353800  2006-09-18      5.0   \n",
       "4310           724631  2011-06-27     10.0   \n",
       "15023          144843  2007-08-23     17.0   \n",
       "\n",
       "                                             description  n_ingredients  \n",
       "16029  this recipe was in a cookbook that my springti...            NaN  \n",
       "21715  this is adapted from my banana muffin recipe. ...            NaN  \n",
       "465    i originally concocted this recipe for a party...           14.0  \n",
       "4310   entered for safe-keeping, this is a little spi...            9.0  \n",
       "15023  my husband loves this recipe.  i've taken seve...           14.0  "
      ]
     },
     "execution_count": 21,
     "metadata": {},
     "output_type": "execute_result"
    }
   ],
   "source": [
    "recipes = pd.read_csv(\"recipes_sample.csv\")\n",
    "new_recipes = recipes.sample(n = 5)\n",
    "new_recipes"
   ]
  },
  {
   "cell_type": "code",
   "execution_count": 22,
   "metadata": {},
   "outputs": [
    {
     "name": "stdout",
     "output_type": "stream",
     "text": [
      "|    id     |  n_in |\n",
      "|-------------------|\n",
      "|  125367   |  nan  |\n",
      "|  396705   |  nan  |\n",
      "|  186631   |  14.0 |\n",
      "|  459518   |  9.0  |\n",
      "|  248344   |  14.0 |\n"
     ]
    }
   ],
   "source": [
    "print(\"|{0:^11}| {1:^6}|\\n|{2}|\".format(\"id\", \"n_in\",\"-\"*19))\n",
    "\n",
    "\n",
    "\n",
    "for index, row in new_recipes.iterrows():\n",
    "    print(\"|{0:^11}| {1:^6}|\".format(row['id'], row['n_ingredients']))  "
   ]
  },
  {
   "cell_type": "code",
   "execution_count": 20,
   "metadata": {},
   "outputs": [
    {
     "name": "stdout",
     "output_type": "stream",
     "text": [
      "|    id     |  n_in |\n",
      "|-------------------|\n",
      "|  489028   |  8.0  |\n",
      "|  473466   |  9.0  |\n",
      "|  352312   |  nan  |\n",
      "|  114076   |  8.0  |\n",
      "|  203414   |  8.0  |\n"
     ]
    }
   ],
   "source": [
    "print(f'|{\"id\":^11}| {\"n_in\":^6}|\\n|{\"-\" * 19}|')\n",
    "\n",
    "for index, row in new_recipes.iterrows():\n",
    "    print(f\"|{row['id']:^11}| {row['n_ingredients']:^6}|\")"
   ]
  },
  {
   "cell_type": "markdown",
   "metadata": {},
   "source": [
    "2\\. Напишите функцию `show_info`, которая по данным о рецепте создает строку (в смысле объекта python) с описанием следующего вида:\n",
    "\n",
    "```\n",
    "\"Название Из Нескольких Слов\"\n",
    "\n",
    "1. Шаг 1.\n",
    "2. Шаг 2.\n",
    "----------\n",
    "Автор: contributor_id\n",
    "Среднее время приготовления: minutes минут\n",
    "```\n",
    "\n",
    "    \n",
    "Данные для создания строки получите из файлов `recipes_sample.csv` (__ЛР2__) и `steps_sample.xml` (__ЛР3__). \n",
    "Вызовите данную функцию для рецепта с id `170895` и выведите (через `print`) полученную строку на экран."
   ]
  },
  {
   "cell_type": "code",
   "execution_count": 23,
   "metadata": {},
   "outputs": [
    {
     "name": "stderr",
     "output_type": "stream",
     "text": [
      "C:\\Users\\297\\miniconda3\\lib\\site-packages\\bs4\\builder\\__init__.py:545: XMLParsedAsHTMLWarning: It looks like you're parsing an XML document using an HTML parser. If this really is an HTML document (maybe it's XHTML?), you can ignore or filter this warning. If it's XML, you should know that using an XML parser will be more reliable. To parse this document as XML, make sure you have the lxml package installed, and pass the keyword argument `features=\"xml\"` into the BeautifulSoup constructor.\n",
      "  warnings.warn(\n"
     ]
    }
   ],
   "source": [
    "from bs4 import BeautifulSoup\n",
    "\n",
    "\n",
    "with open('steps_sample.xml', 'r', encoding = 'utf-8') as read_file:\n",
    "    xml = BeautifulSoup(read_file)"
   ]
  },
  {
   "cell_type": "code",
   "execution_count": 24,
   "metadata": {},
   "outputs": [
    {
     "data": {
      "text/plain": [
       "['mix all the ingredients using a blender',\n",
       " 'pour into popsicle molds',\n",
       " 'freeze and enjoy !']"
      ]
     },
     "execution_count": 24,
     "metadata": {},
     "output_type": "execute_result"
    }
   ],
   "source": [
    "samples = {}\n",
    "for recipe in xml.findAll('recipe'):\n",
    "    cur_id = recipe.find('id').text\n",
    "    text = [step.next for step in recipe.steps.find_all(\"step\")]\n",
    "    samples[int(cur_id)] = text\n",
    "     \n",
    "samples[67664]"
   ]
  },
  {
   "cell_type": "code",
   "execution_count": 27,
   "metadata": {},
   "outputs": [],
   "source": [
    "assert (\n",
    "    show_info(\n",
    "        name=\"george s at the cove black bean soup\",\n",
    "        steps=[\n",
    "            \"clean the leeks and discard the dark green portions\",\n",
    "            \"cut the leeks lengthwise then into one-inch pieces\",\n",
    "            \"melt the butter in a medium skillet , med\",\n",
    "        ],\n",
    "        minutes=90,\n",
    "        author_id=35193,\n",
    "    )\n",
    "    == '\"George S At The Cove Black Bean Soup\"\\n\\n1. Clean the leeks and discard the dark green portions\\n2. Cut the leeks lengthwise then into one-inch pieces\\n3. Melt the butter in a medium skillet , med\\n----------\\nАвтор: 35193\\nСреднее время приготовления: 90 минут\\n'\n",
    ")"
   ]
  },
  {
   "cell_type": "code",
   "execution_count": 26,
   "metadata": {},
   "outputs": [],
   "source": [
    "def show_info(name, steps, minutes, author_id):\n",
    "    ans = f'\"{name.title()}\"\\n\\n'\n",
    "    \n",
    "    for num, cur_step in enumerate(steps):\n",
    "        ans += f'{num + 1}. {cur_step.capitalize()}\\n'\n",
    "    ans += f'{\"-\" * 10}\\nАвтор: {author_id}\\nСреднее время приготовления: {minutes} минут\\n'\n",
    "    return(ans)"
   ]
  },
  {
   "cell_type": "code",
   "execution_count": 29,
   "metadata": {},
   "outputs": [
    {
     "name": "stdout",
     "output_type": "stream",
     "text": [
      "\"Healthy For Them  Yogurt Popsicles\"\n",
      "\n",
      "1. Mix all the ingredients using a blender\n",
      "2. Pour into popsicle molds\n",
      "3. Freeze and enjoy !\n",
      "----------\n",
      "Автор: 91970\n",
      "Среднее время приготовления: 10 минут\n",
      "\n"
     ]
    }
   ],
   "source": [
    "example = show_info(recipes.iloc[1]['name'], \n",
    "                    samples[recipes.iloc[1]['id']], \n",
    "                    recipes.iloc[1]['minutes'], \n",
    "                    recipes.iloc[1]['contributor_id'])\n",
    "print(example)"
   ]
  },
  {
   "cell_type": "markdown",
   "metadata": {},
   "source": [
    "## Работа с регулярными выражениями"
   ]
  },
  {
   "cell_type": "code",
   "execution_count": 30,
   "metadata": {},
   "outputs": [
    {
     "name": "stdout",
     "output_type": "stream",
     "text": [
      "Евгения гр.ПМ19-1    ['ПМ19-1']\n",
      "Илья пм 20-4         ['пм 20-4']\n",
      "Анна 20-3            [' 20-3']\n"
     ]
    }
   ],
   "source": [
    "patt = re.compile(r\"(?:ПМ)?\\s?\\d+-\\d\", re.I)\n",
    "\n",
    "for item in obj:\n",
    "    print(f'{item:20}', patt.findall(item))"
   ]
  },
  {
   "cell_type": "markdown",
   "metadata": {},
   "source": [
    "3\\. Напишите регулярное выражение, которое ищет следующий паттерн в строке: число (1 цифра или более), затем пробел, затем слова: hour или hours или minute или minutes. Произведите поиск по данному регулярному выражению в каждом шаге рецепта с id 25082. Выведите на экран все непустые результаты, найденные по данному шаблону."
   ]
  },
  {
   "cell_type": "code",
   "execution_count": 31,
   "metadata": {},
   "outputs": [
    {
     "name": "stdout",
     "output_type": "stream",
     "text": [
      "Step 5: ['20 minutes']\n",
      "Step 7: ['10 minutes']\n",
      "Step 9: ['2 hours']\n",
      "Step 13: ['10 minutes']\n",
      "Step 16: ['20 minutes', '30 minutes']\n"
     ]
    }
   ],
   "source": [
    "patt = re.compile(r\"\\d+ (?:hour|minute)s?\")\n",
    "\n",
    "for num, item in enumerate(samples[25082]):\n",
    "    cur_res = patt.findall(item)\n",
    "    if cur_res != []:\n",
    "        print(f'Step {num}: {cur_res}')"
   ]
  },
  {
   "cell_type": "code",
   "execution_count": 100,
   "metadata": {},
   "outputs": [],
   "source": [
    "#samples[25082]"
   ]
  },
  {
   "cell_type": "markdown",
   "metadata": {},
   "source": [
    "4\\. Напишите регулярное выражение, которое ищет шаблон вида \"this..., but\" _в начале строки_ . Между словом \"this\" и частью \", but\" может находиться произвольное число букв, цифр, знаков подчеркивания и пробелов. Никаких других символов вместо многоточия быть не может. Пробел между запятой и словом \"but\" может присутствовать или отсутствовать.\n",
    "\n",
    "Используя строковые методы `pd.Series`, выясните, для каких рецептов данный шаблон содержится в тексте описания. Выведите на экран количество таких рецептов и 3 примера подходящих описаний (текст описания должен быть виден на экране полностью)."
   ]
  },
  {
   "cell_type": "code",
   "execution_count": 32,
   "metadata": {},
   "outputs": [
    {
     "name": "stdout",
     "output_type": "stream",
     "text": [
      "Количество вхождений: 134.0\n",
      "Максимальный размер строки: 392\n"
     ]
    }
   ],
   "source": [
    "patt = re.compile(r\"^this (?:\\w|\\s)*,\\s?but\")\n",
    "\n",
    "print('Количество вхождений:', recipes['description'].str.count(patt).sum())\n",
    "#print('Количество вхождений:', recipes['description'][recipes['description'].str.count(patt) == 1])\n",
    "\n",
    "\n",
    "test = recipes['description'][recipes['description'].str.contains(patt) == True].sample(n = 3)\n",
    "length = test.str.len().max()\n",
    "print('Максимальный размер строки:', length) # используем для подходящего вывода\n"
   ]
  },
  {
   "cell_type": "code",
   "execution_count": 33,
   "metadata": {},
   "outputs": [
    {
     "name": "stdout",
     "output_type": "stream",
     "text": [
      "22827                                                                                                                                                                                                                                                              this sauce is terrific with any seafood, but we especially love it with shrimp, and fried green tomatoes! from southern living magazine, 6/04.\n",
      "1570                                                                                                                                                                                                                                                                                                                         this is a great recipe, but it is for 500 i need to figure out how to break it down.\n",
      "5779     this is a bit time consuming, but i thought it was worth it! there's not really any chopping so that saves time. it's not as hard as it looks to make. we all loved this, even the kids. i prepared this in my electric skillet. prep and cook times are approximate. note: to fricasse a broiler-fryer chicken, select 3-4 pound broiler-fryer chicken and cook slowly 45 minutes or until fork-tender.\n",
      "Name: description, dtype: object\n"
     ]
    }
   ],
   "source": [
    "pd.options.display.max_colwidth = 515 #  к сожалению не работает автоматически, берём значение из предыдущей ячейки +1\n",
    "\n",
    "print(test)\n",
    "\n",
    "pd.options.display.max_colwidth = 50 # возвращаем к норме"
   ]
  },
  {
   "cell_type": "markdown",
   "metadata": {},
   "source": [
    "5\\. В текстах шагов рецептов обыкновенные дроби имеют вид \"a / b\". Используя регулярные выражения, уберите в тексте шагов рецепта с id 72367 пробелы до и после символа дроби. Выведите на экран шаги этого рецепта после их изменения."
   ]
  },
  {
   "cell_type": "code",
   "execution_count": 34,
   "metadata": {},
   "outputs": [
    {
     "name": "stdout",
     "output_type": "stream",
     "text": [
      "['mix butter , flour , 1 / 3 c', 'sugar and 1-1 / 4 t', 'vanilla', 'press into greased 9\" springform pan', 'mix cream cheese , 1 / 4 c', 'sugar , eggs and 1 / 2 t', 'vanilla beating until fluffy', 'pour over dough', 'combine apples , 1 / 3 c', 'sugar and cinnamon', 'arrange on top of cream cheese mixture and sprinkle with almonds', 'bake at 350 for 45-55 minutes , or until tester comes out clean']\n"
     ]
    }
   ],
   "source": [
    "print(samples[72367])"
   ]
  },
  {
   "cell_type": "code",
   "execution_count": 35,
   "metadata": {},
   "outputs": [
    {
     "data": {
      "text/plain": [
       "['mix butter , flour , 1/3 c',\n",
       " 'sugar and 1-1/4 t',\n",
       " 'vanilla',\n",
       " 'press into greased 9\" springform pan',\n",
       " 'mix cream cheese , 1/4 c',\n",
       " 'sugar , eggs and 1/2 t',\n",
       " 'vanilla beating until fluffy',\n",
       " 'pour over dough',\n",
       " 'combine apples , 1/3 c',\n",
       " 'sugar and cinnamon',\n",
       " 'arrange on top of cream cheese mixture and sprinkle with almonds',\n",
       " 'bake at 350 for 45-55 minutes , or until tester comes out clean']"
      ]
     },
     "execution_count": 35,
     "metadata": {},
     "output_type": "execute_result"
    }
   ],
   "source": [
    "cur_data = samples[72367]\n",
    "patt_before = re.compile(r'\\s+/\\s+')\n",
    "#patt_after = re.compile(r'/')\n",
    "\n",
    "for num, item in enumerate(cur_data):\n",
    "    cur_data[num] = re.sub(patt_before, '/', item)\n",
    "    \n",
    "cur_data"
   ]
  },
  {
   "cell_type": "markdown",
   "metadata": {},
   "source": [
    "### Сегментация текста"
   ]
  },
  {
   "cell_type": "markdown",
   "metadata": {},
   "source": [
    "6\\. Разбейте тексты шагов рецептов на слова при помощи пакета `nltk`. Посчитайте и выведите на экран кол-во уникальных слов среди всех рецептов. Словом называется любая последовательность алфавитных символов (для проверки можно воспользоваться `str.isalpha`). При подсчете количества уникальных слов не учитывайте регистр."
   ]
  },
  {
   "cell_type": "code",
   "execution_count": 36,
   "metadata": {},
   "outputs": [
    {
     "name": "stdout",
     "output_type": "stream",
     "text": [
      "Количество уникальных слов: 15139\n"
     ]
    }
   ],
   "source": [
    "tokenizer = nltk.tokenize.RegexpTokenizer(r\"[a-z]+\")\n",
    "all_words = []\n",
    "for id in samples.keys():\n",
    "    for num, item in enumerate(samples[id]):\n",
    "        all_words.extend(tokenizer.tokenize(item.lower()))\n",
    "        \n",
    "print('Количество уникальных слов:', len(set(all_words)))"
   ]
  },
  {
   "cell_type": "markdown",
   "metadata": {},
   "source": [
    "7\\. Разбейте описания рецептов из `recipes` на предложения при помощи пакета `nltk`. Найдите 5 самых длинных описаний (по количеству _предложений_) рецептов в датасете и выведите строки фрейма, соответствующие этим рецептами, в порядке убывания длины."
   ]
  },
  {
   "cell_type": "code",
   "execution_count": 37,
   "metadata": {},
   "outputs": [
    {
     "data": {
      "text/html": [
       "<div>\n",
       "<style scoped>\n",
       "    .dataframe tbody tr th:only-of-type {\n",
       "        vertical-align: middle;\n",
       "    }\n",
       "\n",
       "    .dataframe tbody tr th {\n",
       "        vertical-align: top;\n",
       "    }\n",
       "\n",
       "    .dataframe thead th {\n",
       "        text-align: right;\n",
       "    }\n",
       "</style>\n",
       "<table border=\"1\" class=\"dataframe\">\n",
       "  <thead>\n",
       "    <tr style=\"text-align: right;\">\n",
       "      <th></th>\n",
       "      <th>name</th>\n",
       "      <th>id</th>\n",
       "      <th>minutes</th>\n",
       "      <th>contributor_id</th>\n",
       "      <th>submitted</th>\n",
       "      <th>n_steps</th>\n",
       "      <th>description</th>\n",
       "      <th>n_ingredients</th>\n",
       "    </tr>\n",
       "  </thead>\n",
       "  <tbody>\n",
       "    <tr>\n",
       "      <th>0</th>\n",
       "      <td>george s at the cove  black bean soup</td>\n",
       "      <td>44123</td>\n",
       "      <td>90</td>\n",
       "      <td>35193</td>\n",
       "      <td>2002-10-25</td>\n",
       "      <td>NaN</td>\n",
       "      <td>[an original recipe created by chef scott mesk...</td>\n",
       "      <td>18.0</td>\n",
       "    </tr>\n",
       "    <tr>\n",
       "      <th>1</th>\n",
       "      <td>healthy for them  yogurt popsicles</td>\n",
       "      <td>67664</td>\n",
       "      <td>10</td>\n",
       "      <td>91970</td>\n",
       "      <td>2003-07-26</td>\n",
       "      <td>NaN</td>\n",
       "      <td>[my children and their friends ask for my home...</td>\n",
       "      <td>NaN</td>\n",
       "    </tr>\n",
       "    <tr>\n",
       "      <th>2</th>\n",
       "      <td>i can t believe it s spinach</td>\n",
       "      <td>38798</td>\n",
       "      <td>30</td>\n",
       "      <td>1533</td>\n",
       "      <td>2002-08-29</td>\n",
       "      <td>NaN</td>\n",
       "      <td>[these were so go, it surprised even me.]</td>\n",
       "      <td>8.0</td>\n",
       "    </tr>\n",
       "    <tr>\n",
       "      <th>3</th>\n",
       "      <td>italian  gut busters</td>\n",
       "      <td>35173</td>\n",
       "      <td>45</td>\n",
       "      <td>22724</td>\n",
       "      <td>2002-07-27</td>\n",
       "      <td>NaN</td>\n",
       "      <td>[my sister-in-law made these for us at a famil...</td>\n",
       "      <td>NaN</td>\n",
       "    </tr>\n",
       "    <tr>\n",
       "      <th>4</th>\n",
       "      <td>love is in the air  beef fondue   sauces</td>\n",
       "      <td>84797</td>\n",
       "      <td>25</td>\n",
       "      <td>4470</td>\n",
       "      <td>2004-02-23</td>\n",
       "      <td>4.0</td>\n",
       "      <td>[i think a fondue is a very romantic casual di...</td>\n",
       "      <td>NaN</td>\n",
       "    </tr>\n",
       "  </tbody>\n",
       "</table>\n",
       "</div>"
      ],
      "text/plain": [
       "                                       name     id  minutes  contributor_id  \\\n",
       "0     george s at the cove  black bean soup  44123       90           35193   \n",
       "1        healthy for them  yogurt popsicles  67664       10           91970   \n",
       "2              i can t believe it s spinach  38798       30            1533   \n",
       "3                      italian  gut busters  35173       45           22724   \n",
       "4  love is in the air  beef fondue   sauces  84797       25            4470   \n",
       "\n",
       "    submitted  n_steps                                        description  \\\n",
       "0  2002-10-25      NaN  [an original recipe created by chef scott mesk...   \n",
       "1  2003-07-26      NaN  [my children and their friends ask for my home...   \n",
       "2  2002-08-29      NaN          [these were so go, it surprised even me.]   \n",
       "3  2002-07-27      NaN  [my sister-in-law made these for us at a famil...   \n",
       "4  2004-02-23      4.0  [i think a fondue is a very romantic casual di...   \n",
       "\n",
       "   n_ingredients  \n",
       "0           18.0  \n",
       "1            NaN  \n",
       "2            8.0  \n",
       "3            NaN  \n",
       "4            NaN  "
      ]
     },
     "execution_count": 37,
     "metadata": {},
     "output_type": "execute_result"
    }
   ],
   "source": [
    "recipes['description'] = recipes['description'].apply(lambda x: nltk.sent_tokenize(str(x)))\n",
    "recipes.head()"
   ]
  },
  {
   "cell_type": "code",
   "execution_count": 193,
   "metadata": {},
   "outputs": [
    {
     "data": {
      "text/html": [
       "<div>\n",
       "<style scoped>\n",
       "    .dataframe tbody tr th:only-of-type {\n",
       "        vertical-align: middle;\n",
       "    }\n",
       "\n",
       "    .dataframe tbody tr th {\n",
       "        vertical-align: top;\n",
       "    }\n",
       "\n",
       "    .dataframe thead th {\n",
       "        text-align: right;\n",
       "    }\n",
       "</style>\n",
       "<table border=\"1\" class=\"dataframe\">\n",
       "  <thead>\n",
       "    <tr style=\"text-align: right;\">\n",
       "      <th></th>\n",
       "      <th>name</th>\n",
       "      <th>id</th>\n",
       "      <th>minutes</th>\n",
       "      <th>contributor_id</th>\n",
       "      <th>submitted</th>\n",
       "      <th>n_steps</th>\n",
       "      <th>description</th>\n",
       "      <th>n_ingredients</th>\n",
       "      <th>sentence_col</th>\n",
       "    </tr>\n",
       "  </thead>\n",
       "  <tbody>\n",
       "    <tr>\n",
       "      <th>18408</th>\n",
       "      <td>my favorite buttercream icing for decorating</td>\n",
       "      <td>334113</td>\n",
       "      <td>30</td>\n",
       "      <td>681465</td>\n",
       "      <td>2008-10-30</td>\n",
       "      <td>12.0</td>\n",
       "      <td>[this wonderful icing is used for icing cakes ...</td>\n",
       "      <td>NaN</td>\n",
       "      <td>76</td>\n",
       "    </tr>\n",
       "    <tr>\n",
       "      <th>481</th>\n",
       "      <td>alligator claws  avocado fritters  with chipot...</td>\n",
       "      <td>287008</td>\n",
       "      <td>45</td>\n",
       "      <td>765354</td>\n",
       "      <td>2008-02-19</td>\n",
       "      <td>NaN</td>\n",
       "      <td>[a translucent golden-brown crust allows the g...</td>\n",
       "      <td>9.0</td>\n",
       "      <td>27</td>\n",
       "    </tr>\n",
       "    <tr>\n",
       "      <th>22566</th>\n",
       "      <td>rich barley mushroom soup</td>\n",
       "      <td>328708</td>\n",
       "      <td>60</td>\n",
       "      <td>221776</td>\n",
       "      <td>2008-10-03</td>\n",
       "      <td>NaN</td>\n",
       "      <td>[this is one of the best soups i've ever made ...</td>\n",
       "      <td>10.0</td>\n",
       "      <td>24</td>\n",
       "    </tr>\n",
       "    <tr>\n",
       "      <th>16296</th>\n",
       "      <td>little bunny foo foo cake  carrot cake  with c...</td>\n",
       "      <td>316000</td>\n",
       "      <td>68</td>\n",
       "      <td>689540</td>\n",
       "      <td>2008-07-27</td>\n",
       "      <td>14.0</td>\n",
       "      <td>[the first time i made this cake i grated a mi...</td>\n",
       "      <td>NaN</td>\n",
       "      <td>23</td>\n",
       "    </tr>\n",
       "    <tr>\n",
       "      <th>6779</th>\n",
       "      <td>chocolate tea</td>\n",
       "      <td>205348</td>\n",
       "      <td>6</td>\n",
       "      <td>428824</td>\n",
       "      <td>2007-01-14</td>\n",
       "      <td>NaN</td>\n",
       "      <td>[i wrote this because there are an astounding ...</td>\n",
       "      <td>NaN</td>\n",
       "      <td>23</td>\n",
       "    </tr>\n",
       "  </tbody>\n",
       "</table>\n",
       "</div>"
      ],
      "text/plain": [
       "                                                    name      id  minutes  \\\n",
       "18408       my favorite buttercream icing for decorating  334113       30   \n",
       "481    alligator claws  avocado fritters  with chipot...  287008       45   \n",
       "22566                          rich barley mushroom soup  328708       60   \n",
       "16296  little bunny foo foo cake  carrot cake  with c...  316000       68   \n",
       "6779                                       chocolate tea  205348        6   \n",
       "\n",
       "       contributor_id   submitted  n_steps  \\\n",
       "18408          681465  2008-10-30     12.0   \n",
       "481            765354  2008-02-19      NaN   \n",
       "22566          221776  2008-10-03      NaN   \n",
       "16296          689540  2008-07-27     14.0   \n",
       "6779           428824  2007-01-14      NaN   \n",
       "\n",
       "                                             description  n_ingredients  \\\n",
       "18408  [this wonderful icing is used for icing cakes ...            NaN   \n",
       "481    [a translucent golden-brown crust allows the g...            9.0   \n",
       "22566  [this is one of the best soups i've ever made ...           10.0   \n",
       "16296  [the first time i made this cake i grated a mi...            NaN   \n",
       "6779   [i wrote this because there are an astounding ...            NaN   \n",
       "\n",
       "       sentence_col  \n",
       "18408            76  \n",
       "481              27  \n",
       "22566            24  \n",
       "16296            23  \n",
       "6779             23  "
      ]
     },
     "execution_count": 193,
     "metadata": {},
     "output_type": "execute_result"
    }
   ],
   "source": [
    "recipes['sentence_col'] = recipes['description'].str.len()\n",
    "recipes.sort_values('sentence_col', ascending = False).head(5)"
   ]
  },
  {
   "cell_type": "markdown",
   "metadata": {},
   "source": [
    "8\\. Напишите функцию, которая для заданного предложения выводит информацию о частях речи слов, входящих в предложение, в следующем виде:\n",
    "```\n",
    "PRP   VBD   DT      NNS     CC   VBD      NNS        RB   \n",
    " I  omitted the raspberries and added strawberries instead\n",
    "``` \n",
    "Для определения части речи слова можно воспользоваться `nltk.pos_tag`.\n",
    "\n",
    "Проверьте работоспособность функции на названии рецепта с id 241106.\n",
    "\n",
    "Обратите внимание, что часть речи должна находиться ровно посередине над соотвествующим словом, а между самими словами должен быть ровно один пробел.\n"
   ]
  },
  {
   "cell_type": "code",
   "execution_count": 38,
   "metadata": {},
   "outputs": [
    {
     "name": "stderr",
     "output_type": "stream",
     "text": [
      "[nltk_data] Downloading package averaged_perceptron_tagger to\n",
      "[nltk_data]     C:\\Users\\297\\AppData\\Roaming\\nltk_data...\n",
      "[nltk_data]   Unzipping taggers\\averaged_perceptron_tagger.zip.\n"
     ]
    },
    {
     "data": {
      "text/plain": [
       "True"
      ]
     },
     "execution_count": 38,
     "metadata": {},
     "output_type": "execute_result"
    }
   ],
   "source": [
    "nltk.download('averaged_perceptron_tagger')"
   ]
  },
  {
   "cell_type": "code",
   "execution_count": 39,
   "metadata": {},
   "outputs": [
    {
     "data": {
      "text/html": [
       "<div>\n",
       "<style scoped>\n",
       "    .dataframe tbody tr th:only-of-type {\n",
       "        vertical-align: middle;\n",
       "    }\n",
       "\n",
       "    .dataframe tbody tr th {\n",
       "        vertical-align: top;\n",
       "    }\n",
       "\n",
       "    .dataframe thead th {\n",
       "        text-align: right;\n",
       "    }\n",
       "</style>\n",
       "<table border=\"1\" class=\"dataframe\">\n",
       "  <thead>\n",
       "    <tr style=\"text-align: right;\">\n",
       "      <th></th>\n",
       "      <th>name</th>\n",
       "      <th>id</th>\n",
       "      <th>minutes</th>\n",
       "      <th>contributor_id</th>\n",
       "      <th>submitted</th>\n",
       "      <th>n_steps</th>\n",
       "      <th>description</th>\n",
       "      <th>n_ingredients</th>\n",
       "    </tr>\n",
       "  </thead>\n",
       "  <tbody>\n",
       "    <tr>\n",
       "      <th>10437</th>\n",
       "      <td>eggplant steaks with chickpeas  feta cheese an...</td>\n",
       "      <td>241106</td>\n",
       "      <td>30</td>\n",
       "      <td>226788</td>\n",
       "      <td>2007-07-17</td>\n",
       "      <td>15.0</td>\n",
       "      <td>[these are a really good quick meal to make in...</td>\n",
       "      <td>NaN</td>\n",
       "    </tr>\n",
       "  </tbody>\n",
       "</table>\n",
       "</div>"
      ],
      "text/plain": [
       "                                                    name      id  minutes  \\\n",
       "10437  eggplant steaks with chickpeas  feta cheese an...  241106       30   \n",
       "\n",
       "       contributor_id   submitted  n_steps  \\\n",
       "10437          226788  2007-07-17     15.0   \n",
       "\n",
       "                                             description  n_ingredients  \n",
       "10437  [these are a really good quick meal to make in...            NaN  "
      ]
     },
     "execution_count": 39,
     "metadata": {},
     "output_type": "execute_result"
    }
   ],
   "source": [
    "copied_recipe = recipes[recipes['id'] == 241106]\n",
    "\n",
    "copied_recipe"
   ]
  },
  {
   "cell_type": "code",
   "execution_count": 40,
   "metadata": {},
   "outputs": [],
   "source": [
    "def position_tag(s):\n",
    "    tokenizer = nltk.tokenize.RegexpTokenizer(r\"[a-zA-Z]+\")\n",
    "    \n",
    "    s = tokenizer.tokenize(s)\n",
    "    speech_part = nltk.pos_tag(s)\n",
    "    \n",
    "    dict_words = dict(speech_part)\n",
    "    str_1 = ''\n",
    "    str_2 = ''\n",
    "    \n",
    "    for word in dict_words.keys():\n",
    "        tag = dict_words[word]\n",
    "        max_len_word = max(len(word), len(tag)) \n",
    "        str_1 += f\"{tag:^{max_len_word}} \"\n",
    "        str_2 += f\"{word:^{max_len_word}} \"\n",
    "        \n",
    "    return print(f\"{str_1}\\n{str_2}\")  "
   ]
  },
  {
   "cell_type": "code",
   "execution_count": 41,
   "metadata": {},
   "outputs": [
    {
     "name": "stdout",
     "output_type": "stream",
     "text": [
      "   JJ     NNS    IN     NNS    VBP    JJ   CC   JJ    NNS   \n",
      "eggplant steaks with chickpeas feta cheese and black olives \n"
     ]
    },
    {
     "data": {
      "text/plain": [
       "10437    None\n",
       "Name: name, dtype: object"
      ]
     },
     "execution_count": 41,
     "metadata": {},
     "output_type": "execute_result"
    }
   ],
   "source": [
    "copied_recipe['name'].apply(position_tag)"
   ]
  },
  {
   "cell_type": "code",
   "execution_count": null,
   "metadata": {},
   "outputs": [],
   "source": []
  }
 ],
 "metadata": {
  "kernelspec": {
   "display_name": "Python 3",
   "language": "python",
   "name": "python3"
  },
  "language_info": {
   "codemirror_mode": {
    "name": "ipython",
    "version": 3
   },
   "file_extension": ".py",
   "mimetype": "text/x-python",
   "name": "python",
   "nbconvert_exporter": "python",
   "pygments_lexer": "ipython3",
   "version": "3.8.3"
  }
 },
 "nbformat": 4,
 "nbformat_minor": 4
}
